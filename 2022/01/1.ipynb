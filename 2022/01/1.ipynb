{
 "cells": [
  {
   "cell_type": "markdown",
   "id": "4b5223cf-b19f-40ca-a17f-4dd182b9bf3c",
   "metadata": {},
   "source": [
    "## Part One"
   ]
  },
  {
   "cell_type": "code",
   "execution_count": 18,
   "id": "b457b2a3-bc56-459d-bced-80dc566f7a08",
   "metadata": {
    "tags": []
   },
   "outputs": [],
   "source": [
    "import re\n",
    "import numpy as np\n",
    "with open('input1.txt') as f: \n",
    "    datas = list()\n",
    "    data = list()\n",
    "    for line in f:\n",
    "        if line is '\\n':\n",
    "            datas.append(data)\n",
    "            data = list()\n",
    "        else:\n",
    "            data.append(int(line))"
   ]
  },
  {
   "cell_type": "code",
   "execution_count": 23,
   "id": "da1648a4-65fe-4e2e-b272-dbfb0a3396af",
   "metadata": {},
   "outputs": [],
   "source": [
    "sums = list()\n",
    "for data in datas:\n",
    "    sums.append(sum(data))"
   ]
  },
  {
   "cell_type": "markdown",
   "id": "3a75bf1a-af9f-4623-8c7a-4c7a54a2af15",
   "metadata": {},
   "source": [
    "### Part One"
   ]
  },
  {
   "cell_type": "code",
   "execution_count": 39,
   "id": "22518606-3797-4369-894d-74ee95703b8e",
   "metadata": {
    "scrolled": true
   },
   "outputs": [
    {
     "data": {
      "text/plain": [
       "71924"
      ]
     },
     "execution_count": 39,
     "metadata": {},
     "output_type": "execute_result"
    }
   ],
   "source": [
    "max(sums)"
   ]
  },
  {
   "cell_type": "markdown",
   "id": "a7ac3411-e92e-4f24-92ad-83a9a19417ba",
   "metadata": {},
   "source": [
    "### Part Two"
   ]
  },
  {
   "cell_type": "code",
   "execution_count": 40,
   "id": "e9591160-5a6b-40ad-8ee3-8c57c0634614",
   "metadata": {},
   "outputs": [
    {
     "name": "stdout",
     "output_type": "stream",
     "text": [
      "210406\n"
     ]
    }
   ],
   "source": [
    "sums.sort(reverse=True)\n",
    "print(sum(sums[0:3]))"
   ]
  }
 ],
 "metadata": {
  "kernelspec": {
   "display_name": "Python 3 (ipykernel)",
   "language": "python",
   "name": "python3"
  },
  "language_info": {
   "codemirror_mode": {
    "name": "ipython",
    "version": 3
   },
   "file_extension": ".py",
   "mimetype": "text/x-python",
   "name": "python",
   "nbconvert_exporter": "python",
   "pygments_lexer": "ipython3",
   "version": "3.13.0"
  }
 },
 "nbformat": 4,
 "nbformat_minor": 5
}
