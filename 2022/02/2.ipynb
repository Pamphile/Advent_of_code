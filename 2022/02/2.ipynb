{
 "cells": [
  {
   "cell_type": "markdown",
   "id": "4b5223cf-b19f-40ca-a17f-4dd182b9bf3c",
   "metadata": {},
   "source": [
    "## Part One"
   ]
  },
  {
   "cell_type": "code",
   "execution_count": 107,
   "id": "b457b2a3-bc56-459d-bced-80dc566f7a08",
   "metadata": {
    "tags": []
   },
   "outputs": [],
   "source": [
    "import re\n",
    "import numpy as np\n",
    "with open('input.txt') as f: \n",
    "    hers = list()\n",
    "    mes = list()\n",
    "    scores = list()\n",
    "    for line in f:\n",
    "        her, me = line.split(' ')\n",
    "        hers.append(her[0])\n",
    "        mes.append(me[0])\n",
    "        scores.append(score(her[0], me[0]))"
   ]
  },
  {
   "cell_type": "code",
   "execution_count": 108,
   "id": "dac619be-ca64-4586-9b30-ed921193d1e6",
   "metadata": {},
   "outputs": [],
   "source": [
    "def score(her, me): \n",
    "    score = 0\n",
    "\n",
    "    if ((her == 'A' and me == 'Z') \n",
    "        or (her == 'B' and me == 'X')\n",
    "        or (her == 'C' and me == 'Y')):\n",
    "        score += 0\n",
    "\n",
    "    if ((her == 'A' and me == 'X') \n",
    "        or (her == 'B' and me == 'Y')\n",
    "        or (her == 'C' and me == 'Z')):\n",
    "        score += 3\n",
    "\n",
    "    if ((her == 'A' and me == 'Y')\n",
    "        or (her == 'B' and me == 'Z')\n",
    "        or (her == 'C' and me == 'X')):\n",
    "        score += 6\n",
    "\n",
    "    if me == 'X':\n",
    "        score += 1\n",
    "    if me == 'Y':\n",
    "        score += 2\n",
    "    if me == 'Z':\n",
    "        score += 3\n",
    "    \n",
    "    return score"
   ]
  },
  {
   "cell_type": "code",
   "execution_count": 109,
   "id": "07e66b15-bea2-4541-b95f-a1ac285e5082",
   "metadata": {},
   "outputs": [
    {
     "data": {
      "text/plain": [
       "13268"
      ]
     },
     "execution_count": 109,
     "metadata": {},
     "output_type": "execute_result"
    }
   ],
   "source": [
    "sum(scores)"
   ]
  },
  {
   "cell_type": "markdown",
   "id": "e561b5cc-87e8-4051-a88f-32755364e16b",
   "metadata": {},
   "source": [
    "## Part Two "
   ]
  },
  {
   "cell_type": "code",
   "execution_count": 125,
   "id": "b229643c-5e81-45de-9d70-42f14277d414",
   "metadata": {},
   "outputs": [],
   "source": [
    "import re\n",
    "import numpy as np\n",
    "with open('input.txt') as f: \n",
    "    hers = list()\n",
    "    mes = list()\n",
    "    scores = list()\n",
    "    for line in f:\n",
    "        her, me = line.split(' ')\n",
    "        her, me = choose_shape(her[0], me[0])\n",
    "        hers.append(her[0])\n",
    "        mes.append(me[0])\n",
    "        scores.append(score(her[0], me[0]))"
   ]
  },
  {
   "cell_type": "code",
   "execution_count": 126,
   "id": "30919f26-4783-4b5e-8d8d-7ff1c5da720f",
   "metadata": {},
   "outputs": [],
   "source": [
    "def choose_shape(her, decision): \n",
    "    score = 0\n",
    "\n",
    "    match decision:\n",
    "        case 'X': # you lose\n",
    "            match her:\n",
    "                case 'A':\n",
    "                    me = 'Z'\n",
    "                case 'B':\n",
    "                    me = 'X'\n",
    "                case 'C':\n",
    "                    me = 'Y'\n",
    "\n",
    "        case 'Y': # draw\n",
    "            match her:\n",
    "                case 'A':\n",
    "                    me = 'X'\n",
    "                case 'B':\n",
    "                    me = 'Y'\n",
    "                case 'C':\n",
    "                    me = 'Z'\n",
    "\n",
    "        case 'Z': # you win\n",
    "            match her:\n",
    "                case 'A':\n",
    "                    me = 'Y'\n",
    "                case 'B':\n",
    "                    me = 'Z'\n",
    "                case 'C':\n",
    "                    me = 'X'\n",
    "    \n",
    "    return [her, me]"
   ]
  },
  {
   "cell_type": "code",
   "execution_count": 122,
   "id": "e3543dea-a4c2-43c6-a061-a1302812f3d5",
   "metadata": {},
   "outputs": [
    {
     "data": {
      "text/plain": [
       "['A', 'B', 'C']"
      ]
     },
     "execution_count": 122,
     "metadata": {},
     "output_type": "execute_result"
    }
   ],
   "source": [
    "hers"
   ]
  },
  {
   "cell_type": "code",
   "execution_count": 123,
   "id": "23e078e7-b8c2-44f1-97b5-7622776df045",
   "metadata": {},
   "outputs": [
    {
     "data": {
      "text/plain": [
       "['X', 'X', 'X']"
      ]
     },
     "execution_count": 123,
     "metadata": {},
     "output_type": "execute_result"
    }
   ],
   "source": [
    "mes"
   ]
  },
  {
   "cell_type": "code",
   "execution_count": 128,
   "id": "d132c06b-c4f5-4902-81f0-b46ca3af34b2",
   "metadata": {},
   "outputs": [
    {
     "data": {
      "text/plain": [
       "15508"
      ]
     },
     "execution_count": 128,
     "metadata": {},
     "output_type": "execute_result"
    }
   ],
   "source": [
    "sum(scores)"
   ]
  }
 ],
 "metadata": {
  "kernelspec": {
   "display_name": "Python 3 (ipykernel)",
   "language": "python",
   "name": "python3"
  },
  "language_info": {
   "codemirror_mode": {
    "name": "ipython",
    "version": 3
   },
   "file_extension": ".py",
   "mimetype": "text/x-python",
   "name": "python",
   "nbconvert_exporter": "python",
   "pygments_lexer": "ipython3",
   "version": "3.13.0"
  }
 },
 "nbformat": 4,
 "nbformat_minor": 5
}
