{
 "cells": [
  {
   "cell_type": "code",
   "execution_count": 1,
   "id": "f53bad8c-b539-4ab0-9ef2-a833878790ec",
   "metadata": {
    "scrolled": true
   },
   "outputs": [
    {
     "name": "stderr",
     "output_type": "stream",
     "text": [
      "<>:7: SyntaxWarning: invalid escape sequence '\\d'\n",
      "<>:7: SyntaxWarning: invalid escape sequence '\\d'\n",
      "C:\\Users\\Thibaud.Gabillard\\AppData\\Local\\Temp\\ipykernel_34120\\2924202621.py:7: SyntaxWarning: invalid escape sequence '\\d'\n",
      "  temp = re.findall('\\d+', line)\n"
     ]
    }
   ],
   "source": [
    "import re\n",
    "import numpy as np \n",
    "with open('input20241.txt') as f:\n",
    "    one = list()\n",
    "    two = list()\n",
    "    for line in f:\n",
    "        temp = re.findall('\\d+', line)\n",
    "        one.append(int(temp[0]))\n",
    "        two.append(int(temp[1]))\n"
   ]
  },
  {
   "cell_type": "code",
   "execution_count": 2,
   "id": "1c109b25-f1c8-4390-8fd5-9be30874612d",
   "metadata": {},
   "outputs": [],
   "source": [
    "one = np.sort(np.array(one))\n",
    "two = np.sort(np.array(two))"
   ]
  },
  {
   "cell_type": "code",
   "execution_count": 3,
   "id": "ed42c430-0b57-4e28-a2a2-dde0f9bc07b5",
   "metadata": {},
   "outputs": [
    {
     "name": "stdout",
     "output_type": "stream",
     "text": [
      "2057374\n"
     ]
    }
   ],
   "source": [
    "print(np.sum(np.abs(two - one)))"
   ]
  },
  {
   "cell_type": "markdown",
   "id": "eb842749-8b3a-4775-b569-6620fc17d4c0",
   "metadata": {},
   "source": [
    "## Part two"
   ]
  },
  {
   "cell_type": "code",
   "execution_count": 18,
   "id": "d98618bb-3687-4171-9ff8-313e65bb5bc3",
   "metadata": {},
   "outputs": [],
   "source": [
    "results = 0.0\n",
    "for one_, twos_  in zip(one, two):\n",
    "    results += one_*np.count_nonzero(two == one_)"
   ]
  },
  {
   "cell_type": "code",
   "execution_count": 19,
   "id": "fd926d7a-3213-4b38-8be7-fcdf450d6b81",
   "metadata": {},
   "outputs": [
    {
     "data": {
      "text/plain": [
       "np.float64(23177084.0)"
      ]
     },
     "execution_count": 19,
     "metadata": {},
     "output_type": "execute_result"
    }
   ],
   "source": [
    "results"
   ]
  }
 ],
 "metadata": {
  "kernelspec": {
   "display_name": "Python 3 (ipykernel)",
   "language": "python",
   "name": "python3"
  },
  "language_info": {
   "codemirror_mode": {
    "name": "ipython",
    "version": 3
   },
   "file_extension": ".py",
   "mimetype": "text/x-python",
   "name": "python",
   "nbconvert_exporter": "python",
   "pygments_lexer": "ipython3",
   "version": "3.13.0"
  }
 },
 "nbformat": 4,
 "nbformat_minor": 5
}
