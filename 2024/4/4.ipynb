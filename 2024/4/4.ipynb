{
 "cells": [
  {
   "cell_type": "code",
   "execution_count": 86,
   "id": "f53bad8c-b539-4ab0-9ef2-a833878790ec",
   "metadata": {},
   "outputs": [],
   "source": [
    "import re\n",
    "import numpy as np \n",
    "with open('input2.txt') as f:\n",
    "    reports = list()\n",
    "    for line in f:\n",
    "        line = line.replace('\\n', '')\n",
    "        reports.append(list(line))\n"
   ]
  },
  {
   "cell_type": "code",
   "execution_count": 68,
   "id": "b90aba9b-6c5e-4953-9c0f-d117cd53bcca",
   "metadata": {
    "scrolled": true
   },
   "outputs": [
    {
     "data": {
      "text/plain": [
       "[['.', '.', '.', '.', 'X', 'X', 'M', 'A', 'S', '.'],\n",
       " ['.', 'S', 'A', 'M', 'X', 'M', 'S', '.', '.', '.'],\n",
       " ['.', '.', '.', 'S', '.', '.', 'A', '.', '.', '.'],\n",
       " ['.', '.', 'A', '.', 'A', '.', 'M', 'S', '.', 'X'],\n",
       " ['X', 'M', 'A', 'S', 'A', 'M', 'X', '.', 'M', 'M'],\n",
       " ['X', '.', '.', '.', '.', '.', 'X', 'A', '.', 'A'],\n",
       " ['S', '.', 'S', '.', 'S', '.', 'S', '.', 'S', 'S'],\n",
       " ['.', 'A', '.', 'A', '.', 'A', '.', 'A', '.', 'A'],\n",
       " ['.', '.', 'M', '.', 'M', '.', 'M', '.', 'M', 'M'],\n",
       " ['.', 'X', '.', 'X', '.', 'X', 'M', 'A', 'S', 'X']]"
      ]
     },
     "execution_count": 68,
     "metadata": {},
     "output_type": "execute_result"
    }
   ],
   "source": [
    "reports"
   ]
  },
  {
   "cell_type": "code",
   "execution_count": 75,
   "id": "e6ad15eb-e82a-4805-931a-f3f12e987c6c",
   "metadata": {},
   "outputs": [
    {
     "data": {
      "text/plain": [
       "2557"
      ]
     },
     "execution_count": 75,
     "metadata": {},
     "output_type": "execute_result"
    }
   ],
   "source": [
    "\n",
    "\n",
    "ans1 = searchWord(reports, [\"XMAS\"])\n",
    "len(ans1) "
   ]
  },
  {
   "cell_type": "code",
   "execution_count": 73,
   "id": "21f68ea3-8ba5-4fd1-96e3-0b2ae8656810",
   "metadata": {},
   "outputs": [
    {
     "data": {
      "text/plain": [
       "[[0, 4, 1, 1],\n",
       " [0, 5, 0, 1],\n",
       " [1, 4, 0, -1],\n",
       " [3, 9, 1, 0],\n",
       " [3, 9, 1, -1],\n",
       " [4, 0, 0, 1],\n",
       " [4, 6, -1, 0],\n",
       " [4, 6, 0, -1],\n",
       " [5, 0, -1, 1],\n",
       " [5, 6, -1, -1],\n",
       " [9, 1, -1, 1],\n",
       " [9, 3, -1, 1],\n",
       " [9, 3, -1, -1],\n",
       " [9, 5, 0, 1],\n",
       " [9, 5, -1, 1],\n",
       " [9, 5, -1, -1],\n",
       " [9, 9, -1, 0],\n",
       " [9, 9, -1, -1]]"
      ]
     },
     "execution_count": 73,
     "metadata": {},
     "output_type": "execute_result"
    }
   ],
   "source": [
    "ans1"
   ]
  },
  {
   "cell_type": "code",
   "execution_count": 41,
   "id": "c3c1e2d6-1550-44c9-8eaa-b4d4330d8c62",
   "metadata": {},
   "outputs": [
    {
     "data": {
      "text/plain": [
       "12"
      ]
     },
     "execution_count": 41,
     "metadata": {},
     "output_type": "execute_result"
    }
   ],
   "source": [
    "len(ans1) "
   ]
  },
  {
   "cell_type": "code",
   "execution_count": 71,
   "id": "193b6ae2-e3dd-4fad-9927-297970461aba",
   "metadata": {},
   "outputs": [],
   "source": [
    "\n",
    "# This function checks if the given\n",
    "# coordinate is valid\n",
    "def isValid(x, y, sizeX, sizeY):\n",
    "    return 0 <= x < sizeX and 0 <= y < sizeY\n",
    "\n",
    "def findWordInDirection(grid, n, m, word, index,\n",
    "                        x, y, dirX, dirY):\n",
    "    if index == len(word):\n",
    "        return True\n",
    "\n",
    "    if isValid(x, y, n, m) and word[index] == grid[x][y]:\n",
    "        return findWordInDirection(grid, n, m, word, index + 1, \n",
    "                                   x + dirX, y + dirY, dirX, dirY)\n",
    "\n",
    "    return False\n",
    "\n",
    "def searchWord(grid, words):\n",
    "    ans = []\n",
    "    n = len(grid)\n",
    "    m = len(grid[0])\n",
    "\n",
    "    # Directions for 8 possible movements\n",
    "    directions = [(1, 0), (-1, 0), (0, 1), (0, -1),\n",
    "                  (1, 1), (1, -1), (-1, 1), (-1, -1)]\n",
    "\n",
    "    for i in range(n):\n",
    "        for j in range(m):\n",
    "          \n",
    "            # Check if the first character matches\n",
    "            for word in words:\n",
    "                if grid[i][j] == word[0]:  \n",
    "                    for dirX, dirY in directions:\n",
    "                        if findWordInDirection(grid, n, m, word, 0, \n",
    "                                               i, j, dirX, dirY):\n",
    "                            ans.append([i, j, dirX, dirY])\n",
    "\n",
    "    return ans\n"
   ]
  },
  {
   "cell_type": "markdown",
   "id": "39c0fe49-9730-4483-93e0-5c521cff51d3",
   "metadata": {},
   "source": [
    "## Part 2"
   ]
  },
  {
   "cell_type": "code",
   "execution_count": 87,
   "id": "c4f682f7-8952-4064-8d0a-5ec251aa3bde",
   "metadata": {},
   "outputs": [
    {
     "name": "stdout",
     "output_type": "stream",
     "text": [
      "Pattern found: 1854\n"
     ]
    }
   ],
   "source": [
    "def is_subgrid(grid, pattern):\n",
    "    # Get dimensions of the grid and pattern\n",
    "    grid_rows = len(grid)\n",
    "    grid_cols = len(grid[0])\n",
    "    pattern_rows = len(pattern)\n",
    "    pattern_cols = len(pattern[0])\n",
    "    count = 0\n",
    "    # Iterate over every position in the grid where the pattern could fit\n",
    "    for i in range(grid_rows - pattern_rows + 1):\n",
    "        for j in range(grid_cols - pattern_cols + 1):\n",
    "            # Check if the subgrid starting at (i, j) matches the pattern\n",
    "            match = True\n",
    "            for k in range(pattern_rows):\n",
    "                for l in range(pattern_cols):\n",
    "                    if pattern[k][l] != 'W':\n",
    "                        if grid[i + k][j + l] != pattern[k][l]:\n",
    "                            match = False\n",
    "                            break\n",
    "                if not match:\n",
    "                    break\n",
    "            if match:\n",
    "                count +=1\n",
    "    return count  # Pattern not found\n",
    "\n",
    "\n",
    "patterns = [[\n",
    "    ['M', 'W',  'S'],\n",
    "    ['W', 'A',  'W'],\n",
    "    ['M', 'W',  'S']],\n",
    "    [['M', 'W',  'M'],\n",
    "    ['W', 'A',  'W'],\n",
    "    ['S', 'W',  'S']],\n",
    "    [['S', 'W',  'S'],\n",
    "    ['W', 'A',  'W'],\n",
    "    ['M', 'W',  'M']],\n",
    "    [['S', 'W',  'M'],\n",
    "    ['W', 'A',  'W'],\n",
    "    ['S', 'W',  'M']]]\n",
    "\n",
    "result = list()\n",
    "for pattern in patterns:\n",
    "    result.append(is_subgrid(reports, pattern))\n",
    "print(\"Pattern found:\", sum(result))"
   ]
  }
 ],
 "metadata": {
  "kernelspec": {
   "display_name": "Python 3 (ipykernel)",
   "language": "python",
   "name": "python3"
  },
  "language_info": {
   "codemirror_mode": {
    "name": "ipython",
    "version": 3
   },
   "file_extension": ".py",
   "mimetype": "text/x-python",
   "name": "python",
   "nbconvert_exporter": "python",
   "pygments_lexer": "ipython3",
   "version": "3.13.0"
  }
 },
 "nbformat": 4,
 "nbformat_minor": 5
}
