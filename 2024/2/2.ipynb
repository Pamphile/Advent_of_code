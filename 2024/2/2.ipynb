{
 "cells": [
  {
   "cell_type": "code",
   "execution_count": 33,
   "id": "f53bad8c-b539-4ab0-9ef2-a833878790ec",
   "metadata": {},
   "outputs": [
    {
     "name": "stderr",
     "output_type": "stream",
     "text": [
      "<>:6: SyntaxWarning: invalid escape sequence '\\d'\n",
      "<>:6: SyntaxWarning: invalid escape sequence '\\d'\n",
      "C:\\Users\\Thibaud.Gabillard\\AppData\\Local\\Temp\\ipykernel_21108\\1783532091.py:6: SyntaxWarning: invalid escape sequence '\\d'\n",
      "  temp = np.array(re.findall('\\d+', line))\n"
     ]
    }
   ],
   "source": [
    "import re\n",
    "import numpy as np \n",
    "with open('input.txt') as f:\n",
    "    reports = list()\n",
    "    for line in f:\n",
    "        temp = np.array(re.findall('\\d+', line))\n",
    "        temp = [int(x) for x in temp]\n",
    "        reports.append(temp)\n"
   ]
  },
  {
   "cell_type": "code",
   "execution_count": 2,
   "id": "768b101c-d00e-4b32-bc46-8d47eb6a7329",
   "metadata": {},
   "outputs": [],
   "source": [
    "count = 0\n",
    "for lines in reports:\n",
    "    difff = lines - np.roll(lines, -1) \n",
    "    difff = difff[0:len(difff)-1]\n",
    "    if np.all((np.abs(difff) > 0) & (np.abs(difff) < 4)):\n",
    "        if all(difff > 0):\n",
    "            count +=1\n",
    "        if all(difff < 0):\n",
    "            count +=1"
   ]
  },
  {
   "cell_type": "code",
   "execution_count": 3,
   "id": "79e3f497-d1f2-47c2-b627-5013719ce130",
   "metadata": {},
   "outputs": [
    {
     "data": {
      "text/plain": [
       "213"
      ]
     },
     "execution_count": 3,
     "metadata": {},
     "output_type": "execute_result"
    }
   ],
   "source": [
    "count"
   ]
  },
  {
   "cell_type": "markdown",
   "id": "eb842749-8b3a-4775-b569-6620fc17d4c0",
   "metadata": {},
   "source": [
    "## Part two"
   ]
  },
  {
   "cell_type": "code",
   "execution_count": 22,
   "id": "7838ef4b-5605-41ae-b9ef-373e54a31472",
   "metadata": {},
   "outputs": [],
   "source": [
    "def getDiff(lines):\n",
    "    difff = lines - np.roll(lines, -1) \n",
    "    difff = difff[0:len(difff)-1]\n",
    "    return difff"
   ]
  },
  {
   "cell_type": "code",
   "execution_count": 20,
   "id": "4be7e32c-53ae-473e-85a3-7db401efcd55",
   "metadata": {},
   "outputs": [],
   "source": [
    "def isValide(difff):\n",
    "    if np.all((np.abs(difff) > 0) & (np.abs(difff) < 4)):\n",
    "        if all(difff > 0):\n",
    "            return True\n",
    "        if all(difff < 0):\n",
    "            return True\n",
    "            "
   ]
  },
  {
   "cell_type": "code",
   "execution_count": 35,
   "id": "7fcc113d-6784-4e83-a29a-78c7c743c59b",
   "metadata": {},
   "outputs": [
    {
     "name": "stdout",
     "output_type": "stream",
     "text": [
      "285\n"
     ]
    }
   ],
   "source": [
    "count = 0\n",
    "for lines in reports:\n",
    "    if isValide(getDiff(lines)):\n",
    "        count +=1\n",
    "    else:\n",
    "        flag = False\n",
    "        for index, item in enumerate(lines):\n",
    "            linesTemps = lines.copy()\n",
    "            linesTemps.pop(index)\n",
    "            if isValide(getDiff(linesTemps)):\n",
    "                flag = True\n",
    "        if flag:\n",
    "            count +=1\n",
    "            \n",
    "print(count)"
   ]
  }
 ],
 "metadata": {
  "kernelspec": {
   "display_name": "Python 3 (ipykernel)",
   "language": "python",
   "name": "python3"
  },
  "language_info": {
   "codemirror_mode": {
    "name": "ipython",
    "version": 3
   },
   "file_extension": ".py",
   "mimetype": "text/x-python",
   "name": "python",
   "nbconvert_exporter": "python",
   "pygments_lexer": "ipython3",
   "version": "3.13.0"
  }
 },
 "nbformat": 4,
 "nbformat_minor": 5
}
