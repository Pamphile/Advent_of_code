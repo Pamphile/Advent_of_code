{
 "cells": [
  {
   "cell_type": "code",
   "execution_count": 1,
   "id": "fe492f30-2990-497e-b06b-b21a30fbbcac",
   "metadata": {},
   "outputs": [],
   "source": [
    "def create_dot_string(length):\n",
    "    return \"\".join(['.']*length)\n",
    "def test_chars(text):    \n",
    "    return text != create_dot_string(len(text))\n",
    "def test_before(text, start):\n",
    "    return test_chars(text[start - 1])\n",
    "def test_after(text, stop):\n",
    "    return test_chars(text[stop])\n",
    "def test_line(text, start, stop):\n",
    "    return test_chars(text[start-1:stop+1])\n",
    "def test_all(texts, line, start, stop):\n",
    "    before = test_before(texts[line], stop)\n",
    "    after = test_after(texts[line], start)\n",
    "    line_bef = test_line(texts[line - 1], start, stop) \n",
    "    line_aft = test_line(texts[line + 1], start, stop)\n",
    "    return before or after or line_bef or line_aft"
   ]
  },
  {
   "cell_type": "code",
   "execution_count": 2,
   "id": "fd8cc973-79f2-499b-8133-0fdc737d6bdf",
   "metadata": {},
   "outputs": [],
   "source": [
    "def find_star(stars, line, col):\n",
    "    for id_ in range(len(stars[0])):\n",
    "        if stars[0][id_] == line and stars[1][id_] == col:\n",
    "            return id_\n",
    "    return None"
   ]
  },
  {
   "cell_type": "code",
   "execution_count": 3,
   "id": "ec945508-3241-44fe-afac-3cfe114cdd68",
   "metadata": {},
   "outputs": [],
   "source": [
    "import re\n",
    "with open('input.txt') as f:\n",
    "    texts = list()\n",
    "    for line in f:\n",
    "        texts.append(f\".{line[:-1]}.\")\n",
    "    texts.append(create_dot_string(len(texts[0])))\n",
    "    texts.insert(0, create_dot_string(len(texts[0])))"
   ]
  },
  {
   "cell_type": "markdown",
   "id": "15e88831-5dfe-4870-901c-427eed218ec0",
   "metadata": {},
   "source": [
    "## Element 1"
   ]
  },
  {
   "cell_type": "code",
   "execution_count": 4,
   "id": "28dc24f1-f655-40f8-9ba1-3a5073863c0b",
   "metadata": {},
   "outputs": [
    {
     "name": "stdout",
     "output_type": "stream",
     "text": [
      "4533\n"
     ]
    }
   ],
   "source": [
    "import re\n",
    "sums = 0\n",
    "for id_line in range(1,len(texts)-1):\n",
    "    for match in re.finditer(r'(\\d+)', texts[id_line]):\n",
    "    #print(f\"{test_before(text[id_line], match.start())}{test_after(text[id_line], match.end())}\")\n",
    "\n",
    "        if test_all(texts, id_line, match.start(), match.end()):\n",
    "            sums += int(texts[id_line][match.start(): match.end()])\n",
    "        if False:     \n",
    "            print(f\"{texts[id_line-1][match.start()-1: match.end()+1]}\")    \n",
    "            print(f\"{texts[id_line][match.start()-1: match.end()+1]}\")    \n",
    "            print(f\"{texts[id_line+1][match.start()-1: match.end()+1]}\")    \n",
    "            print(test_all(texts, id_line, match.start(), match.end()))            \n",
    "            print(sums)\n",
    "            print(\" \")\n",
    "            print(\" \")\n",
    "print(sums)"
   ]
  },
  {
   "cell_type": "markdown",
   "id": "14425e70-b8b2-4dc5-9535-a8c2eea43c24",
   "metadata": {},
   "source": [
    "## Element 2"
   ]
  },
  {
   "cell_type": "code",
   "execution_count": 5,
   "id": "42ff574a-8e6b-485a-8eb3-3dbe6345f3e7",
   "metadata": {},
   "outputs": [
    {
     "name": "stderr",
     "output_type": "stream",
     "text": [
      "<>:8: SyntaxWarning: invalid escape sequence '\\*'\n",
      "<>:8: SyntaxWarning: invalid escape sequence '\\*'\n",
      "C:\\Users\\Thibaud.Gabillard\\AppData\\Local\\Temp\\ipykernel_30316\\3903084869.py:8: SyntaxWarning: invalid escape sequence '\\*'\n",
      "  for match in re.finditer('\\*', texts[id_line]):\n"
     ]
    },
    {
     "name": "stdout",
     "output_type": "stream",
     "text": [
      "467835\n"
     ]
    }
   ],
   "source": [
    "import re\n",
    "\n",
    "import numpy as np\n",
    "sums = 0\n",
    "stars = [list(), list(), list()]\n",
    "stars_numbers =  []\n",
    "for id_line in range(1,len(texts)-1):\n",
    "    for match in re.finditer('\\*', texts[id_line]):\n",
    "        stars[0].append(id_line)\n",
    "        stars[1].append(match.start())\n",
    "        stars_numbers.append([])\n",
    "\n",
    "for id_line in range(1,len(texts)-1):\n",
    "    for match1 in re.finditer(r'(\\d+)', texts[id_line]):\n",
    "    #print(f\"{test_before(text[id_line], match.start())}{test_after(text[id_line], match.end())}\")\n",
    "       # print(stars_numbers)\n",
    "        if test_all(texts, id_line, match1.start(), match1.end()):\n",
    "            for match2 in re.finditer(r'(\\*)', texts[id_line-1][match1.start()-1: match1.end()+1]):\n",
    "                id_stars = find_star(stars, id_line-1, match1.start() + match2.start()-1)\n",
    "                stars_numbers[id_stars].append(int(texts[id_line][match1.start(): match1.end()]))\n",
    "                \n",
    "            for match2 in re.finditer(r'(\\*)', texts[id_line][match1.start()-1: match1.end()+1]):\n",
    "                id_stars = find_star(stars, id_line, match1.start() + match2.start()-1)\n",
    "                stars_numbers[id_stars].append(int(texts[id_line][match1.start(): match1.end()]))\n",
    "                \n",
    "            for match2 in re.finditer(r'(\\*)', texts[id_line+1][match1.start()-1: match1.end()+1]):\n",
    "                id_stars = find_star(stars, id_line+1, match1.start() + match2.start()-1)\n",
    "                stars_numbers[id_stars].append(int(texts[id_line][match1.start(): match1.end()]))\n",
    "                \n",
    "            if False:     \n",
    "                print(f\"{texts[id_line-1][match1.start()-1: match1.end()+1]}\")    \n",
    "                print(f\"{texts[id_line][match1.start()-1: match1.end()+1]}\")    \n",
    "                print(f\"{texts[id_line+1][match1.start()-1: match1.end()+1]}\")   \n",
    "                \n",
    "                print(\" \")\n",
    "                print(\" \")\n",
    "\n",
    "results = 0\n",
    "for list_ in stars_numbers:\n",
    "    if len(list_) > 1:\n",
    "        results += np.prod(list_)\n",
    "    \n",
    "print(results)"
   ]
  }
 ],
 "metadata": {
  "kernelspec": {
   "display_name": "Python 3 (ipykernel)",
   "language": "python",
   "name": "python3"
  },
  "language_info": {
   "codemirror_mode": {
    "name": "ipython",
    "version": 3
   },
   "file_extension": ".py",
   "mimetype": "text/x-python",
   "name": "python",
   "nbconvert_exporter": "python",
   "pygments_lexer": "ipython3",
   "version": "3.13.0"
  }
 },
 "nbformat": 4,
 "nbformat_minor": 5
}
