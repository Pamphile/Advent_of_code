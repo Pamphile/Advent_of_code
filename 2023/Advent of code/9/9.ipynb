{
 "cells": [
  {
   "cell_type": "code",
   "execution_count": 1,
   "id": "4d304bb0-2fad-4ba0-859e-bb95d74ec711",
   "metadata": {},
   "outputs": [],
   "source": [
    "import re\n",
    "import numpy as np\n",
    "with open('C:/Users/thiba/projects/Advent of code/9/input.txt') as fp:\n",
    "    lines = fp.readlines()\n",
    "\n",
    "history = np.zeros((len(lines), len(re.findall('-?\\d+', lines[0]))))\n",
    "for id_, line in enumerate(lines):\n",
    "    history[id_] = re.findall('-?\\d+', lines[id_])\n",
    "    \n",
    "history = np.int32(history)"
   ]
  },
  {
   "cell_type": "markdown",
   "id": "fd6c511c-49da-4626-869c-3e0095da83d4",
   "metadata": {},
   "source": [
    "# Part 1"
   ]
  },
  {
   "cell_type": "code",
   "execution_count": 2,
   "id": "326d45f7-6ece-4fb3-a352-603743113b4f",
   "metadata": {},
   "outputs": [],
   "source": [
    "value = list()\n",
    "for hist in history:\n",
    "    allVectors = list()\n",
    "    allVectors.append(hist)\n",
    "    new = hist\n",
    "    while any(element != 0 for element in new):\n",
    "        new = new[1:] - new[0:-1] \n",
    "        allVectors.append(new)\n",
    "\n",
    "    score = np.zeros(len(allVectors), dtype = np.int32)\n",
    "    indiceScore = 1\n",
    "    for indice in range(len(allVectors) -2, -1, -1):\n",
    "        #print(indice)\n",
    "        #print(allVectors[indice][-1])\n",
    "        score[indiceScore] = score[indiceScore-1] + allVectors[indice][-1]\n",
    "        indiceScore +=1\n",
    "    value.append(score[-1])"
   ]
  },
  {
   "cell_type": "code",
   "execution_count": 3,
   "id": "4a6aa45a-285e-4857-a554-656c1e655df4",
   "metadata": {},
   "outputs": [
    {
     "data": {
      "text/plain": [
       "1953784198"
      ]
     },
     "execution_count": 3,
     "metadata": {},
     "output_type": "execute_result"
    }
   ],
   "source": [
    "sum(value)"
   ]
  },
  {
   "cell_type": "markdown",
   "id": "c670ae77-b51b-4fc7-85c1-75fc32161610",
   "metadata": {},
   "source": [
    "# Part 2"
   ]
  },
  {
   "cell_type": "code",
   "execution_count": null,
   "id": "c49f8cf5-8416-4d34-8cfb-8fea5741dcc6",
   "metadata": {},
   "outputs": [],
   "source": [
    "value = list()\n",
    "for hist in history:\n",
    "    allVectors = list()\n",
    "    allVectors.append(hist)\n",
    "    new = hist\n",
    "    while any(element != 0 for element in new):\n",
    "        new = new[1:] - new[0:-1] \n",
    "        allVectors.append(new)\n",
    "\n",
    "    score = np.zeros(len(allVectors), dtype = np.int32)\n",
    "    indiceScore = 1\n",
    "    for indice in range(len(allVectors) -2, -1, -1):\n",
    "        #print(indice)\n",
    "        #print(allVectors[indice][-1])\n",
    "        score[indiceScore] = allVectors[indice][0] - score[indiceScore-1]\n",
    "        indiceScore +=1\n",
    "    value.append(score[-1])"
   ]
  }
 ],
 "metadata": {
  "kernelspec": {
   "display_name": "Python 3 (ipykernel)",
   "language": "python",
   "name": "python3"
  },
  "language_info": {
   "codemirror_mode": {
    "name": "ipython",
    "version": 3
   },
   "file_extension": ".py",
   "mimetype": "text/x-python",
   "name": "python",
   "nbconvert_exporter": "python",
   "pygments_lexer": "ipython3",
   "version": "3.9.12"
  }
 },
 "nbformat": 4,
 "nbformat_minor": 5
}
