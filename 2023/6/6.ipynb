{
 "cells": [
  {
   "cell_type": "code",
   "execution_count": 1,
   "id": "6a29be7d-79b4-427f-a715-92613b9d9150",
   "metadata": {},
   "outputs": [],
   "source": [
    "import re\n",
    "import numpy as np\n",
    "with open('input2.txt') as f:\n",
    "    texts = list(list())\n",
    "    for line in f:\n",
    "        texts.append(re.findall('\\d+', line))\n",
    "\n",
    "times = int(texts[0][0])\n",
    "records = int(texts[1][0])"
   ]
  },
  {
   "cell_type": "code",
   "execution_count": 2,
   "id": "3ef40176-e5ab-4fd7-ae1b-c2611fe61541",
   "metadata": {},
   "outputs": [],
   "source": [
    "speed = np.arange(times+1)/1e9\n",
    "timesMili = times/1e9\n",
    "distance = (timesMili-speed)*speed\n",
    "brokenRecord = distance > records/1e18"
   ]
  },
  {
   "cell_type": "code",
   "execution_count": 3,
   "id": "32dff27e-be42-4882-a9df-97125c623ef9",
   "metadata": {},
   "outputs": [
    {
     "data": {
      "text/plain": [
       "20537782"
      ]
     },
     "execution_count": 3,
     "metadata": {},
     "output_type": "execute_result"
    }
   ],
   "source": [
    "np.sum(brokenRecord)"
   ]
  }
 ],
 "metadata": {
  "kernelspec": {
   "display_name": "Python 3 (ipykernel)",
   "language": "python",
   "name": "python3"
  },
  "language_info": {
   "codemirror_mode": {
    "name": "ipython",
    "version": 3
   },
   "file_extension": ".py",
   "mimetype": "text/x-python",
   "name": "python",
   "nbconvert_exporter": "python",
   "pygments_lexer": "ipython3",
   "version": "3.13.0"
  }
 },
 "nbformat": 4,
 "nbformat_minor": 5
}
