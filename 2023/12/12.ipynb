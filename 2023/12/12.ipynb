{
 "cells": [
  {
   "cell_type": "markdown",
   "id": "4b5223cf-b19f-40ca-a17f-4dd182b9bf3c",
   "metadata": {},
   "source": [
    "## Part One"
   ]
  },
  {
   "cell_type": "code",
   "execution_count": 1,
   "id": "85621880-7e9a-4c71-90c2-256458585a6d",
   "metadata": {
    "tags": []
   },
   "outputs": [],
   "source": [
    "from itertools import product\n",
    "\n",
    "def get_permutation(maps):\n",
    "    whole = list()\n",
    "    total = list()\n",
    "    whole.append(['.'])\n",
    "    for strings in list(maps):\n",
    "        if strings == '?':\n",
    "            whole.append(['.', '#'])\n",
    "        else:\n",
    "            whole.append([strings])\n",
    "            \n",
    "    all_combinations = list(product(*whole))\n",
    "\n",
    "    for combination in all_combinations:\n",
    "        total.append(\"\".join(combination))\n",
    "    return total"
   ]
  },
  {
   "cell_type": "code",
   "execution_count": 6,
   "id": "b457b2a3-bc56-459d-bced-80dc566f7a08",
   "metadata": {
    "tags": []
   },
   "outputs": [],
   "source": [
    "import re\n",
    "import numpy as np\n",
    "with open('phil.txt') as f: \n",
    "    maps = list()\n",
    "    datas = list()\n",
    "    for line in f:\n",
    "        map_, data = line.split(' ')\n",
    "        maps.append(map_)\n",
    "        datas.append(re.findall(\"\\d+\", data))"
   ]
  },
  {
   "cell_type": "code",
   "execution_count": 4,
   "id": "fb8af707-12fe-439b-b164-e02e3d12e32b",
   "metadata": {},
   "outputs": [],
   "source": [
    "scoreTotal =0\n",
    "for data, map_ in zip(datas, maps):\n",
    "    permutations = get_permutation(map_) \n",
    "    len(permutations)\n",
    "    score = list()\n",
    "    for perm in permutations:\n",
    "        temp = list()\n",
    "        for intem in re.findall(r'#+', perm):\n",
    "            temp.append(str(len(intem)))\n",
    "        if temp == data:\n",
    "            score.append(1)\n",
    "        else:\n",
    "            score.append(0) \n",
    "    scoreTotal += sum(score)"
   ]
  },
  {
   "cell_type": "code",
   "execution_count": 5,
   "id": "33df1246-916b-48d0-b9fd-d9aafdf4b054",
   "metadata": {},
   "outputs": [
    {
     "data": {
      "text/plain": [
       "7007"
      ]
     },
     "execution_count": 5,
     "metadata": {},
     "output_type": "execute_result"
    }
   ],
   "source": [
    "scoreTotal"
   ]
  },
  {
   "cell_type": "markdown",
   "id": "f1ee0ba9-4d0c-40d8-a0d5-e13491144c6b",
   "metadata": {
    "tags": []
   },
   "source": [
    "## Part 2"
   ]
  },
  {
   "cell_type": "code",
   "execution_count": 1,
   "id": "e0383a6e-ba15-4664-8330-08292d4eb1ed",
   "metadata": {
    "tags": []
   },
   "outputs": [],
   "source": [
    "def find_indices_of_char(input_string, char_to_find):\n",
    "    indices = []\n",
    "    for i, char in enumerate(input_string):\n",
    "        if char == char_to_find:\n",
    "            indices.append(i)\n",
    "    return indices"
   ]
  },
  {
   "cell_type": "code",
   "execution_count": 2,
   "id": "008b4887-52c9-4d3e-91d4-f0e29a558680",
   "metadata": {},
   "outputs": [],
   "source": [
    "def get_dot(number):\n",
    "    truc = list()\n",
    "    for nb in range(number):\n",
    "        truc.append('.'*(nb + 1))\n",
    "    return truc"
   ]
  },
  {
   "cell_type": "code",
   "execution_count": 3,
   "id": "62b66894-4c59-41e6-917c-bef53800e51f",
   "metadata": {},
   "outputs": [],
   "source": [
    "def supp_indices(string, indices):\n",
    "    temp = list(string)\n",
    "    for ind in indices:\n",
    "        temp[ind] = ''\n",
    "    mapNoEcl = \"\".join(temp)\n",
    "    return mapNoEcl"
   ]
  },
  {
   "cell_type": "code",
   "execution_count": 4,
   "id": "10a5c32f-093d-4f53-8bf7-f386bba08e76",
   "metadata": {},
   "outputs": [],
   "source": [
    "from itertools import product\n",
    "\n",
    "def get_permutationv2(data, totalLength, indicesToSuppress):\n",
    "    whole = list()\n",
    "    total = list()\n",
    "    minimumLength = sum(data) + len(data) + 1\n",
    "    print(minimumLength)\n",
    "    print(totalLength)\n",
    "    \n",
    "    listDots = get_dot(totalLength - minimumLength + 1)\n",
    "    whole.append(listDots)\n",
    "    for dat in data:\n",
    "        whole.append(['#'*dat])\n",
    "        whole.append(listDots)\n",
    "\n",
    "    all_combinations = list(product(*whole))\n",
    "    print(len(all_combinations))\n",
    "    for combination in all_combinations:\n",
    "        temp = \"\".join(combination)\n",
    "        if len(temp) == totalLength:\n",
    "            total.append(supp_indices(temp , indicesToSuppress))\n",
    "    return total"
   ]
  },
  {
   "cell_type": "code",
   "execution_count": 5,
   "id": "ad501a8a-13e2-473d-98c2-a105104afc98",
   "metadata": {
    "tags": []
   },
   "outputs": [],
   "source": [
    "import re\n",
    "import numpy as np\n",
    "from itertools import product\n",
    "with open('phil.txt') as f: \n",
    "    maps = list()\n",
    "    datas = list()\n",
    "    for line in f:\n",
    "        map_, data = line.split(' ')\n",
    "        maps.append(\"\".join(['.', map_, '?', map_, '?', map_, '?', map_, '?', map_, '.']))\n",
    "        datas.append([int(x) for x in re.findall(\"\\d+\", data)]*5)"
   ]
  },
  {
   "cell_type": "code",
   "execution_count": 6,
   "id": "d8669785-1dad-40db-91f6-45b48a6e70fd",
   "metadata": {},
   "outputs": [
    {
     "data": {
      "text/plain": [
       "['..??..??...?##.?.??..??...?##.?.??..??...?##.?.??..??...?##.?.??..??...?##..']"
      ]
     },
     "execution_count": 6,
     "metadata": {},
     "output_type": "execute_result"
    }
   ],
   "source": [
    "maps"
   ]
  },
  {
   "cell_type": "code",
   "execution_count": null,
   "id": "5671ee20-50ad-4f94-a5d0-7b40efda4ac2",
   "metadata": {
    "tags": []
   },
   "outputs": [],
   "source": [
    "scoreTotal =0\n",
    "for data, map_ in zip(datas, maps):\n",
    "    indices = find_indices_of_char(map_, '?')\n",
    "    print(sum(data) + len(data) + 1)\n",
    "    print(len(map_))\n",
    "    #permutations = get_permutationv2(data, len(map_), indices) \n",
    "    #score = permutations.count(supp_indices(map_, indices))\n",
    "    #scoreTotal += score"
   ]
  },
  {
   "cell_type": "code",
   "execution_count": null,
   "id": "2016a722-4327-4de5-94e3-fe2181c02218",
   "metadata": {},
   "outputs": [],
   "source": [
    "scoreTotal"
   ]
  },
  {
   "cell_type": "code",
   "execution_count": null,
   "id": "95cd82ea-3a72-4513-a635-a1193a8dafbe",
   "metadata": {},
   "outputs": [],
   "source": []
  }
 ],
 "metadata": {
  "kernelspec": {
   "display_name": "Python 3 (ipykernel)",
   "language": "python",
   "name": "python3"
  },
  "language_info": {
   "codemirror_mode": {
    "name": "ipython",
    "version": 3
   },
   "file_extension": ".py",
   "mimetype": "text/x-python",
   "name": "python",
   "nbconvert_exporter": "python",
   "pygments_lexer": "ipython3",
   "version": "3.13.0"
  }
 },
 "nbformat": 4,
 "nbformat_minor": 5
}
