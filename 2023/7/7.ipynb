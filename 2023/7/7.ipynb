{
 "cells": [
  {
   "cell_type": "code",
   "execution_count": 1,
   "id": "c6ef91cf-fc1d-40a3-a859-7cd554823431",
   "metadata": {
    "tags": []
   },
   "outputs": [],
   "source": [
    "def compare_hands(hand1, hand2):\n",
    "    prints = False\n",
    "    cardKinds1 = get_all_kind(hand1)\n",
    "    cardKinds2 = get_all_kind(hand2)\n",
    "    #print(cardKinds2)\n",
    "    cat1 = get_hand_category(hand1, cardKinds1)\n",
    "   # print(cat1)\n",
    "    cat2 = get_hand_category(hand2, cardKinds2)\n",
    "   # print(cat2)\n",
    "    if prints:\n",
    "        print(cat1)\n",
    "        print(cat2)\n",
    "    if cat1 < cat2:\n",
    "        if prints:\n",
    "            print(\"first has better cat\")\n",
    "        return -1\n",
    "    if cat1 > cat2:\n",
    "        if prints:\n",
    "            print(\"second has better cat\")\n",
    "        return  1\n",
    "\n",
    "       # print(\"same cat\")\n",
    "    for card1, card2 in zip(hand1, hand2):\n",
    "        if prints:\n",
    "            print(f\"{card1} {card2}\")\n",
    "        if card1 > card2:\n",
    "            return -1\n",
    "        if card1 < card2:\n",
    "            return 1\n"
   ]
  },
  {
   "cell_type": "code",
   "execution_count": 2,
   "id": "563ba961-b21d-4435-95f8-cf5b438dca72",
   "metadata": {},
   "outputs": [],
   "source": [
    "def get_all_kind(card):\n",
    "    kinds = ['E', 'D', 'C', 'B', 'A', '9', '8', '7', '6', '5', '4', '3', '2']\n",
    "    cardsKinds = np.zeros(13)\n",
    "    for id_, kind in enumerate(kinds):\n",
    "        cardsKinds[id_] = len(re.findall(kind, card))\n",
    "    return cardsKinds"
   ]
  },
  {
   "cell_type": "code",
   "execution_count": 3,
   "id": "4ab9e22e-8a61-415e-9cde-aa522143695e",
   "metadata": {},
   "outputs": [],
   "source": [
    "def get_hand_category(card, cardKinds):\n",
    "    if (cardKinds == 5).any(): \n",
    "        return 0\n",
    "    if (cardKinds == 4).any():\n",
    "        return 1\n",
    "    if (cardKinds == 3).any() and (cardKinds == 2).any():\n",
    "        return 2\n",
    "    if (cardKinds == 3).any():\n",
    "        return 3    \n",
    "    if sum(cardKinds == 2) == 2:\n",
    "        return 4\n",
    "    if (cardKinds == 2).any():\n",
    "        return 5     \n",
    "    return 6"
   ]
  },
  {
   "cell_type": "code",
   "execution_count": 4,
   "id": "7cbd0d6f-7ab0-44a7-a7cb-101b447dbea1",
   "metadata": {},
   "outputs": [],
   "source": [
    "def update_card(card):\n",
    "    mapping = {'A':'E',\n",
    "               'K':'D', \n",
    "               'Q':'C',\n",
    "               'J':'B',\n",
    "               'T':'A',\n",
    "               '9':'9',\n",
    "               '8':'8',\n",
    "               '7':'7',\n",
    "               '6':'6',\n",
    "               '5':'5',\n",
    "               '4':'4',\n",
    "               '3':'3',\n",
    "               '2':'2',}\n",
    "    for k in mapping:\n",
    "            card = card.replace(k, mapping[k])\n",
    "    return card"
   ]
  },
  {
   "cell_type": "code",
   "execution_count": 5,
   "id": "ef31c40c-ed8c-4bc2-a3c6-29839355ade2",
   "metadata": {},
   "outputs": [],
   "source": [
    "def update_card_r(card):\n",
    "    mapping = {'E':'A',\n",
    "            'D':'K', \n",
    "           'C':'Q',\n",
    "           'B':'J',\n",
    "           'A':'T',\n",
    "           '9':'9',\n",
    "           '8':'8',\n",
    "           '7':'7',\n",
    "           '6':'6',\n",
    "           '5':'5',\n",
    "           '4':'4',\n",
    "           '3':'3',\n",
    "           '2':'2',} \n",
    "    for k in mapping:\n",
    "            card = card.replace(k, mapping[k])\n",
    "    return card"
   ]
  },
  {
   "cell_type": "code",
   "execution_count": 6,
   "id": "e19cd566-e7f3-453b-94dd-e9512884cd28",
   "metadata": {},
   "outputs": [],
   "source": [
    "import re\n",
    "import numpy as np\n",
    "with open('input.txt') as f: \n",
    "    cards = list()\n",
    "    bids = list()\n",
    "    cardsKind = list()\n",
    "    for line in f:\n",
    "        cards.append(update_card(line[0:5]))\n",
    "        bids.append(re.findall('\\d+', line[5:]))"
   ]
  },
  {
   "cell_type": "code",
   "execution_count": 7,
   "id": "cc6cde83-9407-4593-a6f8-06f0397b04bc",
   "metadata": {},
   "outputs": [],
   "source": [
    "import functools\n",
    "sorted_l = sorted(cards, key = functools.cmp_to_key(compare_hands))"
   ]
  },
  {
   "cell_type": "code",
   "execution_count": 8,
   "id": "0c39265b-65f3-4103-a173-fbcaa7c0e33b",
   "metadata": {},
   "outputs": [
    {
     "name": "stdout",
     "output_type": "stream",
     "text": [
      "249726565\n"
     ]
    }
   ],
   "source": [
    "bidsSorted = [0]*len(sorted_l)\n",
    "score = 0\n",
    "for id_, card in enumerate(sorted_l):\n",
    "    bidsSorted[id_] = bids[cards.index(card)]\n",
    "    score += (len(sorted_l) - id_)*int(bidsSorted[id_][0])\n",
    "print(score)"
   ]
  },
  {
   "cell_type": "code",
   "execution_count": 9,
   "id": "c08fcc92-6f35-4619-a279-f0401ad67170",
   "metadata": {},
   "outputs": [
    {
     "name": "stdout",
     "output_type": "stream",
     "text": [
      "['BBBBB', 'EEEE6', 'EEEE5', 'EEEDE', 'EEECE', 'EEBEE', 'EE4EE', 'EE3EE', 'EE2EE', 'EAAAA', 'DDDDB', 'DDDD2', 'DDD5D', 'DDD4D', 'DD9DD', 'DD6DD', 'CECCC', 'CDDDD', 'CCCCD', 'CCCC5', 'CCCC3', 'CCC9C', 'CCC8C', 'CCC6C', 'CCC4C', 'BCCCC', 'BBB8B', 'ADDDD', 'AAAAD', 'AAAAB', 'AAAA6', 'AAAA5', 'AAAA3', 'A9AAA', 'A8AAA', 'A4AAA', 'A2AAA', 'A2222', '999E9', '999D9', '999A9', '9999B', '99996', '99899', '95999', '93999', '93333', '92999', '8B888', '88898', '8888D', '88885', '88878', '82222', '7CCCC', '78777', '777B7', '7777E', '7777D', '77779', '77776', '77757', '77277', '74777', '68666', '66C66', '666B6', '66669', '66656', '66646', '66636', '64444', '62222', '55B55', '55A55', '555C5', '5555E', '55556', '53555', '44E44', '44D44', '44B44', '44744', '44454', '44449', '42444', '3A333', '33C33', '33B33', '33633', '33383', '33343', '3333E', '28888', '24222', '22322', '2222D', '2222B', 'EE999', 'EE66E', 'EDEDE', 'ECCCE', 'E555E', 'DD55D', 'DCDCD', 'D8DD8', 'D7DD7', 'D7D77', 'D55D5', 'D33DD', 'CCCDD', 'CC9C9', 'CC3C3', 'CBCBC', 'C88CC', 'C88C8', 'C7C77', 'BEEBE', 'BBDDB', 'B777B', 'B555B', 'B333B', 'B222B', 'ADDAA', 'ACAAC', 'AAEEA', 'AABBA', 'AA3A3', 'A9A9A', 'A5AA5', 'A44A4', '9EEE9', '9AA99', '999BB', '99955', '99944', '99696', '97979', '97779', '95559', '94449', '93993', '93933', '92992', '8EE88', '8B8B8', '89989', '888DD', '88899', '88844', '88787', '88585', '88383', '88222', '85855', '84448', '83383', '7E7EE', '7AA77', '78877', '77755', '77667', '6E66E', '6DD66', '6A6A6', '68868', '68686', '66C6C', '66AAA', '666BB', '66446', '66226', '65656', '5C5CC', '55757', '55522', '55222', '53353', '4EE44', '4CC4C', '4AA4A', '47474', '44BB4', '44555', '44554', '44242', '3CC33', '36636', '35355', '33DD3', '33777', '2CC2C', '28882', '24242', '23233', '22A2A', '22777', '22332', 'EEED6', 'EECE5', 'EEC3E', 'EEAE8', 'EE37E', 'ED2EE', 'EBEED', 'EB6EE', 'EAABA', 'E9989', 'E5EE6', 'E2E3E', 'E2777', 'DEEEA', 'DEAAA', 'DDD67', 'DCC2C', 'DB555', 'DB2DD', 'DADDC', 'DADD5', 'DA555', 'D9DAD', 'D9D5D', 'D8777', 'D6663', 'D6656', 'D5553', 'D49DD', 'D2DD5', 'CEE2E', 'CEC8C', 'CD6DD', 'CCC4B', 'CBC7C', 'C9399', 'C8C4C', 'C7DCC', 'C7CC4', 'C7737', 'C44D4', 'C4449', 'BEEE2', 'BDD9D', 'BB9BC', 'BAAA5', 'B99C9', 'B9979', 'B77E7', 'B6663', 'B6266', 'B5955', 'B5655', 'B55C5', 'B5545', 'B4424', 'B3343', 'B333D', 'B2722', 'AEAA3', 'ACABA', 'AAB9A', 'AAABD', 'AAA7B', 'AAA56', 'A8AA4', 'A6DAA', 'A6686', 'A63AA', 'A4A5A', '9E99B', '9DDD3', '9CAAA', '9B929', '99D9A', '99D69', '99A39', '99986', '99946', '9992A', '966B6', '959B9', '93B33', '92699', '8EEEB', '8B884', '8B878', '8B288', '88B98', '88A8E', '88A8C', '88A82', '8886D', '87898', '8777E', '858B8', '84C88', '84B44', '84828', '83E33', '7E977', '7E77D', '7C774', '7B757', '7A776', '799C9', '799A9', '79899', '77B73', '777AB', '777A4', '77768', '7774E', '75E77', '75C77', '73977', '73533', '72776', '72737', '6EEE3', '6E66B', '6CB66', '6A266', '68858', '68676', '6777B', '66E67', '66B46', '66AB6', '66946', '6686B', '666C5', '66463', '65B66', '65686', '62227', '5CCEC', '5C655', '55DE5', '55592', '5557B', '55524', '5525E', '535E5', '535B5', '53557', '52B55', '4E4C4', '4E424', '4BA44', '4B443', '4888D', '46866', '46474', '46344', '46266', '45333', '44B4E', '44B45', '44748', '44483', '443A4', '4344D', '4333D', '3AB33', '37C33', '333EB', '2BA22', '2B822', '2777D', '26DDD', '266C6', '25282', '242E2', '24292', '23533', '233B3', '22B25', '22B24', '22832', '223D2', '22372', '222B9', '22298', '22287', 'EEDD3', 'EECDC', 'EE9BB', 'EDDE9', 'EBEB4', 'EBEAA', 'EBAAB', 'EB77E', 'EAEA7', 'E995E', 'E8E8C', 'E5E58', 'E4E77', 'E4E4B', 'E49E4', 'E3E3B', 'E2E33', 'E2DDE', 'DDB44', 'DD882', 'DD244', 'D995D', 'D96D9', 'D8D68', 'D6D6B', 'D64D4', 'D323D', 'CECAE', 'CE8CE', 'CCAAD', 'CC66B', 'CC445', 'CBECE', 'CBEBC', 'C7979', 'C776C', 'C722C', 'C6ACA', 'C5B5C', 'C5353', 'C4C77', 'BB989', 'BB559', 'BA4AB', 'B8B48', 'B66AA', 'B62B6', 'B5599', 'B44CC', 'B22EB', 'ADABD', 'AD9D9', 'AAB55', 'AA966', 'A8A8B', 'A6363', 'A5BBA', 'A552A', 'A4A66', 'A3A43', 'A33BB', 'A33A2', '9E559', '9D22D', '9C93C', '9B966', '99BEE', '99366', '97DD7', '97C7C', '97987', '94B49', '949A4', '94429', '94292', '93883', '8CC84', '8C99C', '8C989', '8C383', '8AADD', '8A787', '8A6A6', '899AA', '88EDD', '88E77', '88DBD', '88669', '882B2', '88223', '87785', '866EE', '85385', '85335', '84AA4', '844CC', '83686', '828D2', '7C7C3', '7AE7A', '77AAC', '7755D', '77455', '77393', '77353', '77332', '755C7', '755AA', '75588', '75357', '74994', '6ED6E', '6AABB', '66EEA', '66D88', '66CC7', '5EA5A', '5E544', '5DB5D', '5CC58', '5C5AA', '5BEE5', '5B858', '5B454', '5AAEE', '5AAD5', '5AA65', '59956', '58668', '56577', '55EE6', '55DED', '5588A', '55886', '54594', '54499', '54334', '53AA3', '52599', '4EC4C', '4D4D8', '4BB47', '4B6B6', '49955', '47B47', '47A47', '46477', '44BAA', '44988', '447EE', '447DD', '434CC', '42DD2', '42A2A', '4224B', '3DADA', '3AAC3', '3A63A', '393B9', '36A6A', '3434A', '339CC', '33646', '2DDAA', '2CCD2', '2CAA2', '2BDD2', '2BB77', '29293', '28CC8', '28287', '26CC6', '24BB2', '24425', '23372', '2323B', '229B9', 'EEB87', 'EAAD2', 'EA8EC', 'E7ED2', 'E744B', 'E6E82', 'E5EBA', 'E5663', 'E2686', 'DE553', 'DE29E', 'DDB59', 'DCD8A', 'DBD52', 'DBACB', 'DB994', 'D93EE', 'D9223', 'D7B55', 'D7B3D', 'D6B77', 'D68BB', 'D5B58', 'D5788', 'D4E47', 'D49E9', 'D43BB', 'D2B42', 'D28BD', 'CE4AE', 'CDBC8', 'CD545', 'CCDA7', 'CCBE3', 'CC83B', 'CC2D7', 'CBECD', 'CBC57', 'CA7A8', 'CA22B', 'C9892', 'C96B9', 'C82BC', 'C7C59', 'C74C3', 'C6443', 'C5446', 'C42EC', 'C3392', 'C2A88', 'BD626', 'BD377', 'BBCD9', 'BAADC', 'BA94B', 'BA7A9', 'BA322', 'B9B2A', 'B9877', 'B97E7', 'B8C7C', 'B8C2B', 'B8428', 'B72A7', 'B665A', 'B6522', 'B5E75', 'B5D53', 'B55C2', 'B54A4', 'B46E4', 'B265B', 'B2474', 'AE7CA', 'ADD4B', 'AD5DE', 'AA8B2', 'AA3E6', 'A5E8A', 'A578A', 'A577B', 'A4383', 'A3346', 'A2D26', 'A2688', 'A2562', 'A2529', '9EABB', '9C77B', '9B9AE', '9B882', '9B557', '9B4DD', '9ACEA', '99B34', '998B5', '9956C', '97E75', '96BA9', '96678', '95E75', '95B66', '934B3', '9322A', '8E98D', '8CC63', '8C46C', '8BDEB', '8B896', '8AA9B', '8A9C8', '8A843', '88D6B', '88C35', '88BA7', '87C79', '862D2', '85956', '85754', '84CBC', '84B45', '844ED', '843C4', '838AD', '8389E', '82577', '82274', '7BC74', '7BA5A', '7B566', '7A99E', '79D59', '7988B', '78ADD', '75E44', '75CB5', '75B85', '75224', '74B78', '737EB', '73679', '6EABA', '6D9B6', '6D7D2', '6D5D8', '6CC5A', '6BBE4', '6BAAC', '6B2C2', '6AC3A', '6A9EA', '6796D', '67365', '66CB7', '66BC9', '664CD', '65838', '65795', '653B5', '642E4', '63AE3', '62DAD', '5EE23', '5EB85', '5E4E8', '5D5BE', '5C8D8', '5B645', '5B4BE', '5AA89', '57DCC', '57A5D', '574B5', '56BA5', '56ABA', '5664B', '5564E', '549CC', '544ED', '53B37', '53442', '53292', '52B54', '528C8', '4EB24', '4E6D6', '4E575', '4D3D5', '4C553', '4C223', '4BA94', '4B9AA', '4B4AD', '4AA86', '4A7B4', '48A43', '4866B', '484DB', '47A6A', '46348', '44ABE', '43DB3', '43776', '42BCC', '42732', '3D59D', '3CC29', '3C5C6', '3BB5A', '3B7C3', '3A693', '39C38', '39AB3', '38DE8', '38DDB', '38DD6', '383EB', '37B93', '37955', '36753', '35B36', '35A85', '33D28', '2DCAD', '2D724', '2D688', '2B559', '298D2', '29452', '27379', '262EB', '25D65', '24E34', '24966', '22B9E', '22A53', '2245B', 'EDBAC', 'EDA29', 'ED4A3', 'EC347', 'EB867', 'EA72D', 'EA47C', 'E8B42', 'E847A', 'E7A96', 'E6B45', 'E63BD', 'E5BA9', 'E4C25', 'DCA83', 'DCA72', 'DC627', 'DBE84', 'DB7E4', 'DAE7C', 'D8732', 'D78C4', 'D7593', 'D653A', 'D52A4', 'D4A9B', 'D4936', 'D4528', 'D34A2', 'D2863', 'D2758', 'CD72B', 'CD472', 'CD3B6', 'CA792', 'C9432', 'C7A25', 'C6D98', 'C693D', 'C569E', 'C5382', 'C4E5B', 'C4D98', 'C43EB', 'C342E', 'C27D9', 'C2376', 'BECA9', 'BE58D', 'BE345', 'BD3EA', 'B9CA3', 'B9C65', 'B9856', 'B9384', 'B7A53', 'B795C', 'B7826', 'B76E9', 'B739E', 'B684D', 'B6783', 'B675E', 'B5AD6', 'B4D3E', 'B286A', 'B2564', 'AEB75', 'ADE39', 'AD753', 'AD486', 'AD2BC', 'AB2D5', 'A9D65', 'A8B56', 'A82BC', 'A7D36', 'A75DC', 'A6B59', 'A548B', 'A479C', 'A3E48', 'A3D84', 'A267C', '9EC34', '9EB6D', '9EA3B', '9D4EB', '9CD26', '9C584', '9BDEC', '9B6AC', '98746', '97B26', '973A2', '96DE7', '96D8E', '954B2', '94AB6', '93BAD', '8D97A', '8D269', '8C2A4', '8B459', '8A4EC', '8A2C6', '85E26', '84C92', '839CB', '82C7A', '82B4C', '7E3CD', '7D3C2', '7CA8B', '7C3AE', '76B3C', '75CE6', '759CE', '74E68', '74C6E', '74C69', '6D7A8', '6C78D', '6C73A', '6C48B', '6C274', '6BE89', '6BC4D', '69D4C', '68E79', '67A4E', '679A5', '653EC', '653B9', '64DB9', '63A48', '637BA', '628B4', '5E9A7', '5E2B6', '5D832', '5D26A', '5C8DE', '5BC92', '5AEC8', '5AC37', '5A83D', '5A24B', '592C3', '59267', '58C67', '58BDA', '57E3C', '57C2E', '57BAC', '573DB', '56B7D', '54B9D', '54A8D', '547E6', '54726', '523BA', '4E527', '4CB29', '4B26A', '4B253', '49BD3', '49273', '487A2', '47E38', '47A3D', '46EBA', '46CE9', '45B3C', '45A32', '453ED', '436D5', '42D6C', '429ED', '426B3', '3E2B4', '3D94E', '3CDA5', '3CD54', '3BD9C', '3AED7', '394AE', '382E9', '3786A', '374D9', '37246', '35296', '34976', '329DA', '32689', '2CD58', '2B68C', '2A5D9', '29785', '2549A', '24D3E', '24386', '23B68']\n",
      "['JJJJJ', 'TTTT6', 'TTTT5', 'TTTKT', 'TTTQT', 'TTJTT', 'TT4TT', 'TT3TT', 'TT2TT', 'TTTTT', 'KKKKJ', 'KKKK2', 'KKK5K', 'KKK4K', 'KK9KK', 'KK6KK', 'QTQQQ', 'QKKKK', 'QQQQK', 'QQQQ5', 'QQQQ3', 'QQQ9Q', 'QQQ8Q', 'QQQ6Q', 'QQQ4Q', 'JQQQQ', 'JJJ8J', 'TKKKK', 'TTTTK', 'TTTTJ', 'TTTT6', 'TTTT5', 'TTTT3', 'T9TTT', 'T8TTT', 'T4TTT', 'T2TTT', 'T2222', '999T9', '999K9', '999T9', '9999J', '99996', '99899', '95999', '93999', '93333', '92999', '8J888', '88898', '8888K', '88885', '88878', '82222', '7QQQQ', '78777', '777J7', '7777T', '7777K', '77779', '77776', '77757', '77277', '74777', '68666', '66Q66', '666J6', '66669', '66656', '66646', '66636', '64444', '62222', '55J55', '55T55', '555Q5', '5555T', '55556', '53555', '44T44', '44K44', '44J44', '44744', '44454', '44449', '42444', '3T333', '33Q33', '33J33', '33633', '33383', '33343', '3333T', '28888', '24222', '22322', '2222K', '2222J', 'TT999', 'TT66T', 'TKTKT', 'TQQQT', 'T555T', 'KK55K', 'KQKQK', 'K8KK8', 'K7KK7', 'K7K77', 'K55K5', 'K33KK', 'QQQKK', 'QQ9Q9', 'QQ3Q3', 'QJQJQ', 'Q88QQ', 'Q88Q8', 'Q7Q77', 'JTTJT', 'JJKKJ', 'J777J', 'J555J', 'J333J', 'J222J', 'TKKTT', 'TQTTQ', 'TTTTT', 'TTJJT', 'TT3T3', 'T9T9T', 'T5TT5', 'T44T4', '9TTT9', '9TT99', '999JJ', '99955', '99944', '99696', '97979', '97779', '95559', '94449', '93993', '93933', '92992', '8TT88', '8J8J8', '89989', '888KK', '88899', '88844', '88787', '88585', '88383', '88222', '85855', '84448', '83383', '7T7TT', '7TT77', '78877', '77755', '77667', '6T66T', '6KK66', '6T6T6', '68868', '68686', '66Q6Q', '66TTT', '666JJ', '66446', '66226', '65656', '5Q5QQ', '55757', '55522', '55222', '53353', '4TT44', '4QQ4Q', '4TT4T', '47474', '44JJ4', '44555', '44554', '44242', '3QQ33', '36636', '35355', '33KK3', '33777', '2QQ2Q', '28882', '24242', '23233', '22T2T', '22777', '22332', 'TTTK6', 'TTQT5', 'TTQ3T', 'TTTT8', 'TT37T', 'TK2TT', 'TJTTK', 'TJ6TT', 'TTTJT', 'T9989', 'T5TT6', 'T2T3T', 'T2777', 'KTTTT', 'KTTTT', 'KKK67', 'KQQ2Q', 'KJ555', 'KJ2KK', 'KTKKQ', 'KTKK5', 'KT555', 'K9KTK', 'K9K5K', 'K8777', 'K6663', 'K6656', 'K5553', 'K49KK', 'K2KK5', 'QTT2T', 'QTQ8Q', 'QK6KK', 'QQQ4J', 'QJQ7Q', 'Q9399', 'Q8Q4Q', 'Q7KQQ', 'Q7QQ4', 'Q7737', 'Q44K4', 'Q4449', 'JTTT2', 'JKK9K', 'JJ9JQ', 'JTTT5', 'J99Q9', 'J9979', 'J77T7', 'J6663', 'J6266', 'J5955', 'J5655', 'J55Q5', 'J5545', 'J4424', 'J3343', 'J333K', 'J2722', 'TTTT3', 'TQTJT', 'TTJ9T', 'TTTJK', 'TTT7J', 'TTT56', 'T8TT4', 'T6KTT', 'T6686', 'T63TT', 'T4T5T', '9T99J', '9KKK3', '9QTTT', '9J929', '99K9T', '99K69', '99T39', '99986', '99946', '9992T', '966J6', '959J9', '93J33', '92699', '8TTTJ', '8J884', '8J878', '8J288', '88J98', '88T8T', '88T8Q', '88T82', '8886K', '87898', '8777T', '858J8', '84Q88', '84J44', '84828', '83T33', '7T977', '7T77K', '7Q774', '7J757', '7T776', '799Q9', '799T9', '79899', '77J73', '777TJ', '777T4', '77768', '7774T', '75T77', '75Q77', '73977', '73533', '72776', '72737', '6TTT3', '6T66J', '6QJ66', '6T266', '68858', '68676', '6777J', '66T67', '66J46', '66TJ6', '66946', '6686J', '666Q5', '66463', '65J66', '65686', '62227', '5QQTQ', '5Q655', '55KT5', '55592', '5557J', '55524', '5525T', '535T5', '535J5', '53557', '52J55', '4T4Q4', '4T424', '4JT44', '4J443', '4888K', '46866', '46474', '46344', '46266', '45333', '44J4T', '44J45', '44748', '44483', '443T4', '4344K', '4333K', '3TJ33', '37Q33', '333TJ', '2JT22', '2J822', '2777K', '26KKK', '266Q6', '25282', '242T2', '24292', '23533', '233J3', '22J25', '22J24', '22832', '223K2', '22372', '222J9', '22298', '22287', 'TTKK3', 'TTQKQ', 'TT9JJ', 'TKKT9', 'TJTJ4', 'TJTTT', 'TJTTJ', 'TJ77T', 'TTTT7', 'T995T', 'T8T8Q', 'T5T58', 'T4T77', 'T4T4J', 'T49T4', 'T3T3J', 'T2T33', 'T2KKT', 'KKJ44', 'KK882', 'KK244', 'K995K', 'K96K9', 'K8K68', 'K6K6J', 'K64K4', 'K323K', 'QTQTT', 'QT8QT', 'QQTTK', 'QQ66J', 'QQ445', 'QJTQT', 'QJTJQ', 'Q7979', 'Q776Q', 'Q722Q', 'Q6TQT', 'Q5J5Q', 'Q5353', 'Q4Q77', 'JJ989', 'JJ559', 'JT4TJ', 'J8J48', 'J66TT', 'J62J6', 'J5599', 'J44QQ', 'J22TJ', 'TKTJK', 'TK9K9', 'TTJ55', 'TT966', 'T8T8J', 'T6363', 'T5JJT', 'T552T', 'T4T66', 'T3T43', 'T33JJ', 'T33T2', '9T559', '9K22K', '9Q93Q', '9J966', '99JTT', '99366', '97KK7', '97Q7Q', '97987', '94J49', '949T4', '94429', '94292', '93883', '8QQ84', '8Q99Q', '8Q989', '8Q383', '8TTKK', '8T787', '8T6T6', '899TT', '88TKK', '88T77', '88KJK', '88669', '882J2', '88223', '87785', '866TT', '85385', '85335', '84TT4', '844QQ', '83686', '828K2', '7Q7Q3', '7TT7T', '77TTQ', '7755K', '77455', '77393', '77353', '77332', '755Q7', '755TT', '75588', '75357', '74994', '6TK6T', '6TTJJ', '66TTT', '66K88', '66QQ7', '5TT5T', '5T544', '5KJ5K', '5QQ58', '5Q5TT', '5JTT5', '5J858', '5J454', '5TTTT', '5TTK5', '5TT65', '59956', '58668', '56577', '55TT6', '55KTK', '5588T', '55886', '54594', '54499', '54334', '53TT3', '52599', '4TQ4Q', '4K4K8', '4JJ47', '4J6J6', '49955', '47J47', '47T47', '46477', '44JTT', '44988', '447TT', '447KK', '434QQ', '42KK2', '42T2T', '4224J', '3KTKT', '3TTQ3', '3T63T', '393J9', '36T6T', '3434T', '339QQ', '33646', '2KKTT', '2QQK2', '2QTT2', '2JKK2', '2JJ77', '29293', '28QQ8', '28287', '26QQ6', '24JJ2', '24425', '23372', '2323J', '229J9', 'TTJ87', 'TTTK2', 'TT8TQ', 'T7TK2', 'T744J', 'T6T82', 'T5TJT', 'T5663', 'T2686', 'KT553', 'KT29T', 'KKJ59', 'KQK8T', 'KJK52', 'KJTQJ', 'KJ994', 'K93TT', 'K9223', 'K7J55', 'K7J3K', 'K6J77', 'K68JJ', 'K5J58', 'K5788', 'K4T47', 'K49T9', 'K43JJ', 'K2J42', 'K28JK', 'QT4TT', 'QKJQ8', 'QK545', 'QQKT7', 'QQJT3', 'QQ83J', 'QQ2K7', 'QJTQK', 'QJQ57', 'QT7T8', 'QT22J', 'Q9892', 'Q96J9', 'Q82JQ', 'Q7Q59', 'Q74Q3', 'Q6443', 'Q5446', 'Q42TQ', 'Q3392', 'Q2T88', 'JK626', 'JK377', 'JJQK9', 'JTTKQ', 'JT94J', 'JT7T9', 'JT322', 'J9J2T', 'J9877', 'J97T7', 'J8Q7Q', 'J8Q2J', 'J8428', 'J72T7', 'J665T', 'J6522', 'J5T75', 'J5K53', 'J55Q2', 'J54T4', 'J46T4', 'J265J', 'J2474', 'TT7QT', 'TKK4J', 'TK5KT', 'TT8J2', 'TT3T6', 'T5T8T', 'T578T', 'T577J', 'T4383', 'T3346', 'T2K26', 'T2688', 'T2562', 'T2529', '9TTJJ', '9Q77J', '9J9TT', '9J882', '9J557', '9J4KK', '9TQTT', '99J34', '998J5', '9956Q', '97T75', '96JT9', '96678', '95T75', '95J66', '934J3', '9322T', '8T98K', '8QQ63', '8Q46Q', '8JKTJ', '8J896', '8TT9J', '8T9Q8', '8T843', '88K6J', '88Q35', '88JT7', '87Q79', '862K2', '85956', '85754', '84QJQ', '84J45', '844TK', '843Q4', '838TK', '8389T', '82577', '82274', '7JQ74', '7JT5T', '7J566', '7T99T', '79K59', '7988J', '78TKK', '75T44', '75QJ5', '75J85', '75224', '74J78', '737TJ', '73679', '6TTJT', '6K9J6', '6K7K2', '6K5K8', '6QQ5T', '6JJT4', '6JTTQ', '6J2Q2', '6TQ3T', '6T9TT', '6796K', '67365', '66QJ7', '66JQ9', '664QK', '65838', '65795', '653J5', '642T4', '63TT3', '62KTK', '5TT23', '5TJ85', '5T4T8', '5K5JT', '5Q8K8', '5J645', '5J4JT', '5TT89', '57KQQ', '57T5K', '574J5', '56JT5', '56TJT', '5664J', '5564T', '549QQ', '544TK', '53J37', '53442', '53292', '52J54', '528Q8', '4TJ24', '4T6K6', '4T575', '4K3K5', '4Q553', '4Q223', '4JT94', '4J9TT', '4J4TK', '4TT86', '4T7J4', '48T43', '4866J', '484KJ', '47T6T', '46348', '44TJT', '43KJ3', '43776', '42JQQ', '42732', '3K59K', '3QQ29', '3Q5Q6', '3JJ5T', '3J7Q3', '3T693', '39Q38', '39TJ3', '38KT8', '38KKJ', '38KK6', '383TJ', '37J93', '37955', '36753', '35J36', '35T85', '33K28', '2KQTK', '2K724', '2K688', '2J559', '298K2', '29452', '27379', '262TJ', '25K65', '24T34', '24966', '22J9T', '22T53', '2245J', 'TKJTQ', 'TKT29', 'TK4T3', 'TQ347', 'TJ867', 'TT72K', 'TT47Q', 'T8J42', 'T847T', 'T7T96', 'T6J45', 'T63JK', 'T5JT9', 'T4Q25', 'KQT83', 'KQT72', 'KQ627', 'KJT84', 'KJ7T4', 'KTT7Q', 'K8732', 'K78Q4', 'K7593', 'K653T', 'K52T4', 'K4T9J', 'K4936', 'K4528', 'K34T2', 'K2863', 'K2758', 'QK72J', 'QK472', 'QK3J6', 'QT792', 'Q9432', 'Q7T25', 'Q6K98', 'Q693K', 'Q569T', 'Q5382', 'Q4T5J', 'Q4K98', 'Q43TJ', 'Q342T', 'Q27K9', 'Q2376', 'JTQT9', 'JT58K', 'JT345', 'JK3TT', 'J9QT3', 'J9Q65', 'J9856', 'J9384', 'J7T53', 'J795Q', 'J7826', 'J76T9', 'J739T', 'J684K', 'J6783', 'J675T', 'J5TK6', 'J4K3T', 'J286T', 'J2564', 'TTJ75', 'TKT39', 'TK753', 'TK486', 'TK2JQ', 'TJ2K5', 'T9K65', 'T8J56', 'T82JQ', 'T7K36', 'T75KQ', 'T6J59', 'T548J', 'T479Q', 'T3T48', 'T3K84', 'T267Q', '9TQ34', '9TJ6K', '9TT3J', '9K4TJ', '9QK26', '9Q584', '9JKTQ', '9J6TQ', '98746', '97J26', '973T2', '96KT7', '96K8T', '954J2', '94TJ6', '93JTK', '8K97T', '8K269', '8Q2T4', '8J459', '8T4TQ', '8T2Q6', '85T26', '84Q92', '839QJ', '82Q7T', '82J4Q', '7T3QK', '7K3Q2', '7QT8J', '7Q3TT', '76J3Q', '75QT6', '759QT', '74T68', '74Q6T', '74Q69', '6K7T8', '6Q78K', '6Q73T', '6Q48J', '6Q274', '6JT89', '6JQ4K', '69K4Q', '68T79', '67T4T', '679T5', '653TQ', '653J9', '64KJ9', '63T48', '637JT', '628J4', '5T9T7', '5T2J6', '5K832', '5K26T', '5Q8KT', '5JQ92', '5TTQ8', '5TQ37', '5T83K', '5T24J', '592Q3', '59267', '58Q67', '58JKT', '57T3Q', '57Q2T', '57JTQ', '573KJ', '56J7K', '54J9K', '54T8K', '547T6', '54726', '523JT', '4T527', '4QJ29', '4J26T', '4J253', '49JK3', '49273', '487T2', '47T38', '47T3K', '46TJT', '46QT9', '45J3Q', '45T32', '453TK', '436K5', '42K6Q', '429TK', '426J3', '3T2J4', '3K94T', '3QKT5', '3QK54', '3JK9Q', '3TTK7', '394TT', '382T9', '3786T', '374K9', '37246', '35296', '34976', '329KT', '32689', '2QK58', '2J68Q', '2T5K9', '29785', '2549T', '24K3T', '24386', '23J68']\n"
     ]
    }
   ],
   "source": [
    "new_sorted = list()\n",
    "for card in sorted_l:\n",
    "    new_sorted.append(update_card_r(card))\n",
    "print(sorted_l)\n",
    "print(new_sorted)"
   ]
  },
  {
   "cell_type": "code",
   "execution_count": 10,
   "id": "2667c3ee-9786-4a8c-8cac-c2409be25e98",
   "metadata": {},
   "outputs": [
    {
     "ename": "AttributeError",
     "evalue": "'list' object has no attribute 'replace'",
     "output_type": "error",
     "traceback": [
      "\u001b[1;31m---------------------------------------------------------------------------\u001b[0m",
      "\u001b[1;31mAttributeError\u001b[0m                            Traceback (most recent call last)",
      "\u001b[1;32m~\\AppData\\Local\\Temp\\ipykernel_9372\\2618813374.py\u001b[0m in \u001b[0;36m<module>\u001b[1;34m\u001b[0m\n\u001b[1;32m----> 1\u001b[1;33m \u001b[0mupdate_card_r\u001b[0m\u001b[1;33m(\u001b[0m\u001b[0mcards\u001b[0m\u001b[1;33m)\u001b[0m\u001b[1;33m\u001b[0m\u001b[1;33m\u001b[0m\u001b[0m\n\u001b[0m",
      "\u001b[1;32m~\\AppData\\Local\\Temp\\ipykernel_9372\\60910108.py\u001b[0m in \u001b[0;36mupdate_card_r\u001b[1;34m(card)\u001b[0m\n\u001b[0;32m     14\u001b[0m            '2':'2',} \n\u001b[0;32m     15\u001b[0m     \u001b[1;32mfor\u001b[0m \u001b[0mk\u001b[0m \u001b[1;32min\u001b[0m \u001b[0mmapping\u001b[0m\u001b[1;33m:\u001b[0m\u001b[1;33m\u001b[0m\u001b[1;33m\u001b[0m\u001b[0m\n\u001b[1;32m---> 16\u001b[1;33m             \u001b[0mcard\u001b[0m \u001b[1;33m=\u001b[0m \u001b[0mcard\u001b[0m\u001b[1;33m.\u001b[0m\u001b[0mreplace\u001b[0m\u001b[1;33m(\u001b[0m\u001b[0mk\u001b[0m\u001b[1;33m,\u001b[0m \u001b[0mmapping\u001b[0m\u001b[1;33m[\u001b[0m\u001b[0mk\u001b[0m\u001b[1;33m]\u001b[0m\u001b[1;33m)\u001b[0m\u001b[1;33m\u001b[0m\u001b[1;33m\u001b[0m\u001b[0m\n\u001b[0m\u001b[0;32m     17\u001b[0m     \u001b[1;32mreturn\u001b[0m \u001b[0mcard\u001b[0m\u001b[1;33m\u001b[0m\u001b[1;33m\u001b[0m\u001b[0m\n",
      "\u001b[1;31mAttributeError\u001b[0m: 'list' object has no attribute 'replace'"
     ]
    }
   ],
   "source": [
    "update_card_r(cards)"
   ]
  },
  {
   "cell_type": "code",
   "execution_count": null,
   "id": "cc4b166f-221c-447f-b6eb-af8845f0b99f",
   "metadata": {},
   "outputs": [],
   "source": [
    "compare_hands('DD677', 'A55B5')"
   ]
  },
  {
   "cell_type": "code",
   "execution_count": null,
   "id": "8de6b976-0db6-45c1-9602-20370e539f50",
   "metadata": {},
   "outputs": [],
   "source": [
    "5>4"
   ]
  }
 ],
 "metadata": {
  "kernelspec": {
   "display_name": "Python 3 (ipykernel)",
   "language": "python",
   "name": "python3"
  },
  "language_info": {
   "codemirror_mode": {
    "name": "ipython",
    "version": 3
   },
   "file_extension": ".py",
   "mimetype": "text/x-python",
   "name": "python",
   "nbconvert_exporter": "python",
   "pygments_lexer": "ipython3",
   "version": "3.13.0"
  }
 },
 "nbformat": 4,
 "nbformat_minor": 5
}
