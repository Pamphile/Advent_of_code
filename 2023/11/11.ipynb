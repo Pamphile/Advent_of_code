{
 "cells": [
  {
   "cell_type": "code",
   "execution_count": 1,
   "id": "8218e226-55a4-4b4a-b9be-b9351533be22",
   "metadata": {},
   "outputs": [],
   "source": [
    "def Convert(string):\n",
    "    list1 = []\n",
    "    list1[:0] = string\n",
    "    if '\\n' in list1:\n",
    "        list1.remove(\"\\n\")\n",
    "    return list1"
   ]
  },
  {
   "cell_type": "code",
   "execution_count": 2,
   "id": "a5c07d1b-fc96-44ae-a610-fee9250ffaf6",
   "metadata": {},
   "outputs": [],
   "source": [
    "import re\n",
    "import numpy as np\n",
    "with open('input.txt') as f: \n",
    "    lines = list()\n",
    "    linesD = list()\n",
    "    for line in f:\n",
    "      #  if line == \"\".join([\".\"*(len(line)-1), '\\n']):\n",
    "      #      lines.append(Convert(line ))\n",
    "            \n",
    "        linesD.append(line)\n",
    "        lines.append(Convert(line ))"
   ]
  },
  {
   "cell_type": "code",
   "execution_count": 3,
   "id": "095bf9f3-2974-4ea5-92e7-2260421287a5",
   "metadata": {},
   "outputs": [],
   "source": [
    "mapTable = np.zeros((len(lines), len(lines[0])))\n",
    "for idRow in range(len(lines)):\n",
    "    for idCol in range(len(lines[0])):\n",
    "        if lines[idRow][idCol] == '#':\n",
    "            mapTable[idRow][idCol] = 1"
   ]
  },
  {
   "cell_type": "code",
   "execution_count": 4,
   "id": "1f4cd040-e91b-4477-81a4-cc388fe605d2",
   "metadata": {},
   "outputs": [
    {
     "ename": "NameError",
     "evalue": "name 'mapTableNew' is not defined",
     "output_type": "error",
     "traceback": [
      "\u001b[1;31m---------------------------------------------------------------------------\u001b[0m",
      "\u001b[1;31mNameError\u001b[0m                                 Traceback (most recent call last)",
      "\u001b[1;32m~\\AppData\\Local\\Temp\\ipykernel_3848\\1876130334.py\u001b[0m in \u001b[0;36m<module>\u001b[1;34m\u001b[0m\n\u001b[0;32m      1\u001b[0m \u001b[0mgalaxy\u001b[0m \u001b[1;33m=\u001b[0m \u001b[0mlist\u001b[0m\u001b[1;33m(\u001b[0m\u001b[1;33m)\u001b[0m\u001b[1;33m\u001b[0m\u001b[1;33m\u001b[0m\u001b[0m\n\u001b[0;32m      2\u001b[0m \u001b[0mindice\u001b[0m \u001b[1;33m=\u001b[0m \u001b[1;36m1\u001b[0m\u001b[1;33m\u001b[0m\u001b[1;33m\u001b[0m\u001b[0m\n\u001b[1;32m----> 3\u001b[1;33m \u001b[1;32mfor\u001b[0m \u001b[0midrow\u001b[0m \u001b[1;32min\u001b[0m \u001b[0mrange\u001b[0m\u001b[1;33m(\u001b[0m\u001b[0mnp\u001b[0m\u001b[1;33m.\u001b[0m\u001b[0mshape\u001b[0m\u001b[1;33m(\u001b[0m\u001b[0mmapTableNew\u001b[0m\u001b[1;33m)\u001b[0m\u001b[1;33m[\u001b[0m\u001b[1;36m0\u001b[0m\u001b[1;33m]\u001b[0m\u001b[1;33m)\u001b[0m\u001b[1;33m:\u001b[0m\u001b[1;33m\u001b[0m\u001b[1;33m\u001b[0m\u001b[0m\n\u001b[0m\u001b[0;32m      4\u001b[0m     \u001b[1;32mfor\u001b[0m \u001b[0midcol\u001b[0m \u001b[1;32min\u001b[0m \u001b[0mrange\u001b[0m\u001b[1;33m(\u001b[0m\u001b[0mnp\u001b[0m\u001b[1;33m.\u001b[0m\u001b[0mshape\u001b[0m\u001b[1;33m(\u001b[0m\u001b[0mmapTableNew\u001b[0m\u001b[1;33m)\u001b[0m\u001b[1;33m[\u001b[0m\u001b[1;36m1\u001b[0m\u001b[1;33m]\u001b[0m\u001b[1;33m)\u001b[0m\u001b[1;33m:\u001b[0m\u001b[1;33m\u001b[0m\u001b[1;33m\u001b[0m\u001b[0m\n\u001b[0;32m      5\u001b[0m         \u001b[1;32mif\u001b[0m \u001b[0mmapTableNew\u001b[0m\u001b[1;33m[\u001b[0m\u001b[0midrow\u001b[0m\u001b[1;33m]\u001b[0m\u001b[1;33m[\u001b[0m\u001b[0midcol\u001b[0m\u001b[1;33m]\u001b[0m \u001b[1;33m==\u001b[0m \u001b[1;36m1\u001b[0m\u001b[1;33m:\u001b[0m\u001b[1;33m\u001b[0m\u001b[1;33m\u001b[0m\u001b[0m\n",
      "\u001b[1;31mNameError\u001b[0m: name 'mapTableNew' is not defined"
     ]
    }
   ],
   "source": [
    "galaxy = list()\n",
    "indice = 1\n",
    "for idrow in range(np.shape(mapTableNew)[0]):\n",
    "    for idcol in range(np.shape(mapTableNew)[1]):\n",
    "        if mapTableNew[idrow][idcol] == 1:\n",
    "            galaxy.append([indice, idrow, idcol])\n",
    "            indice+=1"
   ]
  },
  {
   "cell_type": "code",
   "execution_count": null,
   "id": "5e350798-0549-47b6-b917-974ca202e080",
   "metadata": {},
   "outputs": [],
   "source": [
    "mapTableNew"
   ]
  },
  {
   "cell_type": "code",
   "execution_count": null,
   "id": "f4b4bd99-31f7-493d-b700-b1014f28f777",
   "metadata": {},
   "outputs": [],
   "source": [
    "galaxy"
   ]
  },
  {
   "cell_type": "code",
   "execution_count": null,
   "id": "c758aae1-54bc-492f-a70c-f60a1ca1cc37",
   "metadata": {},
   "outputs": [],
   "source": [
    "distance = np.zeros((len(galaxy), len(galaxy)))\n",
    "for id1, gal1 in enumerate(galaxy):\n",
    "    for id2, gal2 in enumerate(galaxy):\n",
    "        distance[id1][id2] = (abs(galaxy[id2][1] - galaxy[id1][1]) + abs(galaxy[id2][2] - galaxy[id1][2]) )"
   ]
  },
  {
   "cell_type": "markdown",
   "id": "07f6f893-fa20-416f-a5e2-3efc0deeeff2",
   "metadata": {},
   "source": [
    "# Part 2"
   ]
  },
  {
   "cell_type": "code",
   "execution_count": 4,
   "id": "72e8085e-dd94-4a24-883a-0a11717ae84f",
   "metadata": {},
   "outputs": [],
   "source": [
    "emptyCol = list()\n",
    "for idCol in range(np.shape(mapTable)[1]):\n",
    "    if all(mapTable[:,idCol] == np.zeros(len(mapTable[:,1]))):\n",
    "        emptyCol.append(idCol) \n",
    "        \n",
    "emptyRow = list()\n",
    "for idRow in range(np.shape(mapTable)[0]):\n",
    "    if all(mapTable[idRow,:] == np.zeros(len(mapTable[1,:]))):\n",
    "        emptyRow.append(idRow) "
   ]
  },
  {
   "cell_type": "code",
   "execution_count": 5,
   "id": "b9eea1bb-2f01-4ced-8fe8-64c2e3d43afe",
   "metadata": {},
   "outputs": [],
   "source": [
    "galaxy = list()\n",
    "indice = 1\n",
    "for idrow in range(np.shape(mapTable)[0]):\n",
    "    for idcol in range(np.shape(mapTable)[1]):\n",
    "        if mapTable[idrow][idcol] == 1:\n",
    "            galaxy.append([indice, idrow, idcol])\n",
    "            indice+=1"
   ]
  },
  {
   "cell_type": "code",
   "execution_count": null,
   "id": "191e4a60-e15f-4ef2-959b-5498470a6ad4",
   "metadata": {},
   "outputs": [],
   "source": [
    "galaxy"
   ]
  },
  {
   "cell_type": "code",
   "execution_count": 7,
   "id": "ba37f5fa-b778-4b82-96ca-e46289c20338",
   "metadata": {},
   "outputs": [],
   "source": [
    "dilatation = 999999\n",
    "distance = np.zeros((len(galaxy), len(galaxy)))\n",
    "for id1, gal in enumerate(galaxy):\n",
    "    galaxy[id1].append(galaxy[id1][1])\n",
    "    for row in emptyRow:\n",
    "        if galaxy[id1][1] > row:\n",
    "            galaxy[id1][-1] += dilatation\n",
    "            \n",
    "distance = np.zeros((len(galaxy), len(galaxy)))\n",
    "for id1, gal in enumerate(galaxy):\n",
    "    galaxy[id1].append(galaxy[id1][2])\n",
    "    for col in emptyCol:\n",
    "        if galaxy[id1][2] > col:\n",
    "            galaxy[id1][-1] += dilatation"
   ]
  },
  {
   "cell_type": "code",
   "execution_count": 8,
   "id": "3c83674b-f5ad-4efb-9edc-b08d35a94761",
   "metadata": {},
   "outputs": [],
   "source": [
    "distance = np.zeros((len(galaxy), len(galaxy)))\n",
    "for id1, gal1 in enumerate(galaxy):\n",
    "    for id2, gal2 in enumerate(galaxy):\n",
    "        distance[id1][id2] = (abs(galaxy[id2][3] - galaxy[id1][3]) + abs(galaxy[id2][4] - galaxy[id1][4]) )"
   ]
  },
  {
   "cell_type": "code",
   "execution_count": 9,
   "id": "0e0b7a42-b03f-47f1-a390-362cd61a2116",
   "metadata": {},
   "outputs": [
    {
     "data": {
      "text/plain": [
       "840988812853.0"
      ]
     },
     "execution_count": 9,
     "metadata": {},
     "output_type": "execute_result"
    }
   ],
   "source": [
    "np.sum(distance/2)"
   ]
  },
  {
   "cell_type": "code",
   "execution_count": null,
   "id": "d609b411-f466-4001-8d6e-62790523747f",
   "metadata": {},
   "outputs": [],
   "source": []
  }
 ],
 "metadata": {
  "kernelspec": {
   "display_name": "Python 3 (ipykernel)",
   "language": "python",
   "name": "python3"
  },
  "language_info": {
   "codemirror_mode": {
    "name": "ipython",
    "version": 3
   },
   "file_extension": ".py",
   "mimetype": "text/x-python",
   "name": "python",
   "nbconvert_exporter": "python",
   "pygments_lexer": "ipython3",
   "version": "3.9.13"
  }
 },
 "nbformat": 4,
 "nbformat_minor": 5
}
