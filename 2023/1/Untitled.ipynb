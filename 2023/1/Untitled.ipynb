{
 "cells": [
  {
   "cell_type": "code",
   "execution_count": 1,
   "id": "f53bad8c-b539-4ab0-9ef2-a833878790ec",
   "metadata": {},
   "outputs": [
    {
     "name": "stderr",
     "output_type": "stream",
     "text": [
      "<>:18: SyntaxWarning: invalid escape sequence '\\d'\n",
      "<>:18: SyntaxWarning: invalid escape sequence '\\d'\n",
      "C:\\Users\\Thibaud.Gabillard\\AppData\\Local\\Temp\\ipykernel_24760\\2843552821.py:18: SyntaxWarning: invalid escape sequence '\\d'\n",
      "  temp = re.findall('\\d', line)\n"
     ]
    }
   ],
   "source": [
    "import re\n",
    "\n",
    "mapping = { 'one':'on1ne',\n",
    "           'two':'tw2wo', \n",
    "           'three':'th3ree',\n",
    "           'four':'fo4ur',\n",
    "           'five':'fi5ve',\n",
    "           'six':'si6ix',\n",
    "           'seven':'sev7ven',\n",
    "           'eight':'eig8ght',\n",
    "           'nine':'ni9ne'}\n",
    "\n",
    "sum = 0\n",
    "with open('input.txt') as f:\n",
    "   for line in f:\n",
    "        for k in mapping:\n",
    "            line = line.replace(k, mapping[k])\n",
    "        temp = re.findall('\\d', line)\n",
    "        temp = int(f\"{temp[0]}{temp[-1]}\")\n",
    "        sum = sum + temp"
   ]
  },
  {
   "cell_type": "code",
   "execution_count": 2,
   "id": "ed42c430-0b57-4e28-a2a2-dde0f9bc07b5",
   "metadata": {},
   "outputs": [
    {
     "data": {
      "text/plain": [
       "55218"
      ]
     },
     "execution_count": 2,
     "metadata": {},
     "output_type": "execute_result"
    }
   ],
   "source": [
    "sum"
   ]
  }
 ],
 "metadata": {
  "kernelspec": {
   "display_name": "Python 3 (ipykernel)",
   "language": "python",
   "name": "python3"
  },
  "language_info": {
   "codemirror_mode": {
    "name": "ipython",
    "version": 3
   },
   "file_extension": ".py",
   "mimetype": "text/x-python",
   "name": "python",
   "nbconvert_exporter": "python",
   "pygments_lexer": "ipython3",
   "version": "3.13.0"
  }
 },
 "nbformat": 4,
 "nbformat_minor": 5
}
