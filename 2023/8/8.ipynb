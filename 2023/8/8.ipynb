{
 "cells": [
  {
   "cell_type": "code",
   "execution_count": null,
   "id": "4281d2d9-bbe9-4ab8-ab95-26d27a676a09",
   "metadata": {},
   "outputs": [],
   "source": [
    "def next_step(line, whereTurn):\n",
    "    left = line[7:10]\n",
    "    right = line[12:15]\n",
    "    if whereTurn == \"R\":\n",
    "        return right\n",
    "    if whereTurn == \"L\":\n",
    "        return left"
   ]
  },
  {
   "cell_type": "code",
   "execution_count": null,
   "id": "7abeb19b-4cab-4983-9ee4-c3c9ed93d01b",
   "metadata": {},
   "outputs": [],
   "source": [
    "import re\n",
    "import numpy as np\n",
    "with open('input.txt') as f: \n",
    "    lines = list()\n",
    "    for line in f:\n",
    "        lines.append(line)\n",
    "instructions = lines[0][:-1]*200000\n",
    "lines = lines[2:]\n",
    "\n",
    "positions = list()\n",
    "for line in lines:\n",
    "    positions.append(line[0:3])"
   ]
  },
  {
   "cell_type": "markdown",
   "id": "beab05b5-5ffe-4839-8a04-b1a20f0fbf5d",
   "metadata": {},
   "source": [
    "# Phase 1"
   ]
  },
  {
   "cell_type": "code",
   "execution_count": null,
   "id": "342385ca-8960-4253-9362-b533b35bf136",
   "metadata": {},
   "outputs": [],
   "source": [
    "current = positions.index(\"AAA\")\n",
    "time = 0\n",
    "#print(instructions)\n",
    "while positions[current] != \"ZZZ\":\n",
    "   # print(positions[current])\n",
    "    nextStep = next_step(lines[current], instructions[time])\n",
    "    current = positions.index(nextStep)\n",
    "    time +=1\n",
    "print(time)"
   ]
  },
  {
   "cell_type": "markdown",
   "id": "117f42bc-a45e-4e07-aad1-6d0fc9e65e76",
   "metadata": {},
   "source": [
    "# Phase 2"
   ]
  },
  {
   "cell_type": "code",
   "execution_count": 77,
   "id": "85f4e4fe-e1b7-4e33-b406-41d0bafdaf60",
   "metadata": {
    "tags": []
   },
   "outputs": [
    {
     "name": "stdout",
     "output_type": "stream",
     "text": [
      "FSA\n",
      "JVA\n",
      "QXA\n",
      "KNA\n",
      "AAA\n",
      "FXA\n"
     ]
    }
   ],
   "source": [
    "currentPos = list()\n",
    "condition = list()\n",
    "for id_, pos in enumerate(positions):\n",
    "    if pos[2] == \"A\":\n",
    "        print(pos)\n",
    "        currentPos.append(id_)\n",
    "        condition.append(False)"
   ]
  },
  {
   "cell_type": "code",
   "execution_count": 78,
   "id": "d5e2f296-027f-4902-bc62-6aecd3656954",
   "metadata": {},
   "outputs": [],
   "source": [
    "current = start\n",
    "time = 0\n",
    "conditionss = list()\n",
    "timeToReach = [0]*6\n",
    "done = [False]*6\n",
    "while False in done:\n",
    "   # print(positions[current])\n",
    "    newPos = list()\n",
    "    condition = list()\n",
    "    for id__, position_ in enumerate(currentPos):\n",
    "        nextStep = next_step(lines[position_], instructions[time])\n",
    "        temp = positions.index(nextStep)\n",
    "        if positions[temp][2] == \"Z\":\n",
    "            condition.append(True)\n",
    "            if done[id__]==False:\n",
    "                timeToReach[id__] =  time + 1\n",
    "                done[id__] = True\n",
    "        else:\n",
    "            condition.append(False)\n",
    "        newPos.append(temp)\n",
    "    #print(condition)\n",
    "    conditionss.append(condition)\n",
    "    currentPos = newPos\n",
    "    time +=1\n",
    "    "
   ]
  },
  {
   "cell_type": "code",
   "execution_count": 79,
   "id": "bab0aac7-82d1-4a27-ba48-d277c0c7536f",
   "metadata": {},
   "outputs": [
    {
     "data": {
      "text/plain": [
       "13385272668829"
      ]
     },
     "execution_count": 79,
     "metadata": {},
     "output_type": "execute_result"
    }
   ],
   "source": [
    "import math\n",
    "temp = timeToReach\n",
    "math.lcm(*temp)"
   ]
  },
  {
   "cell_type": "code",
   "execution_count": 69,
   "id": "5f3a799d-ed21-472b-9091-952c60b70179",
   "metadata": {},
   "outputs": [
    {
     "data": {
      "text/plain": [
       "[16859, 4495, 5619, 14330, 7586, 12925]"
      ]
     },
     "execution_count": 69,
     "metadata": {},
     "output_type": "execute_result"
    }
   ],
   "source": [
    "timeToReach"
   ]
  }
 ],
 "metadata": {
  "kernelspec": {
   "display_name": "Python 3 (ipykernel)",
   "language": "python",
   "name": "python3"
  },
  "language_info": {
   "codemirror_mode": {
    "name": "ipython",
    "version": 3
   },
   "file_extension": ".py",
   "mimetype": "text/x-python",
   "name": "python",
   "nbconvert_exporter": "python",
   "pygments_lexer": "ipython3",
   "version": "3.13.0"
  }
 },
 "nbformat": 4,
 "nbformat_minor": 5
}
